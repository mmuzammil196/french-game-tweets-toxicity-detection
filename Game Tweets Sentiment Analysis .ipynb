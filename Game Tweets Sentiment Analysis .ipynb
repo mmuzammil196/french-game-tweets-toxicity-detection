{
 "cells": [
  {
   "cell_type": "markdown",
   "metadata": {},
   "source": [
    "## Import the python Libraries"
   ]
  },
  {
   "cell_type": "code",
   "execution_count": 1,
   "metadata": {},
   "outputs": [],
   "source": [
    "import pandas as pd\n",
    "import numpy as np\n",
    "import re\n",
    "from textblob import TextBlob\n",
    "import nltk\n",
    "from wordcloud import WordCloud\n",
    "import matplotlib.pyplot as plt\n",
    "import seaborn as sns\n",
    "plt.style.use('fivethirtyeight')\n",
    "%matplotlib inline"
   ]
  },
  {
   "cell_type": "code",
   "execution_count": 2,
   "metadata": {},
   "outputs": [],
   "source": [
    "# read_file = pd.read_excel (r'Muzammil.xlsx')\n",
    "# read_file.to_csv (r'Gametweet.csv', index = None, header=None)"
   ]
  },
  {
   "cell_type": "code",
   "execution_count": 3,
   "metadata": {},
   "outputs": [],
   "source": [
    "df = pd.read_csv('Gametweet.csv', header = None)"
   ]
  },
  {
   "cell_type": "code",
   "execution_count": 4,
   "metadata": {},
   "outputs": [
    {
     "data": {
      "text/html": [
       "<div>\n",
       "<style scoped>\n",
       "    .dataframe tbody tr th:only-of-type {\n",
       "        vertical-align: middle;\n",
       "    }\n",
       "\n",
       "    .dataframe tbody tr th {\n",
       "        vertical-align: top;\n",
       "    }\n",
       "\n",
       "    .dataframe thead th {\n",
       "        text-align: right;\n",
       "    }\n",
       "</style>\n",
       "<table border=\"1\" class=\"dataframe\">\n",
       "  <thead>\n",
       "    <tr style=\"text-align: right;\">\n",
       "      <th></th>\n",
       "      <th>0</th>\n",
       "      <th>1</th>\n",
       "      <th>2</th>\n",
       "      <th>3</th>\n",
       "      <th>4</th>\n",
       "      <th>5</th>\n",
       "      <th>6</th>\n",
       "      <th>7</th>\n",
       "      <th>8</th>\n",
       "      <th>9</th>\n",
       "      <th>...</th>\n",
       "      <th>29</th>\n",
       "      <th>30</th>\n",
       "      <th>31</th>\n",
       "      <th>32</th>\n",
       "      <th>33</th>\n",
       "      <th>34</th>\n",
       "      <th>35</th>\n",
       "      <th>36</th>\n",
       "      <th>37</th>\n",
       "      <th>38</th>\n",
       "    </tr>\n",
       "  </thead>\n",
       "  <tbody>\n",
       "    <tr>\n",
       "      <th>0</th>\n",
       "      <td>1</td>\n",
       "      <td>Ekaterina Vinokourova  the only daughter of Ru...</td>\n",
       "      <td>NaN</td>\n",
       "      <td>NaN</td>\n",
       "      <td>NaN</td>\n",
       "      <td>NaN</td>\n",
       "      <td>NaN</td>\n",
       "      <td>NaN</td>\n",
       "      <td>NaN</td>\n",
       "      <td>NaN</td>\n",
       "      <td>...</td>\n",
       "      <td>NaN</td>\n",
       "      <td>NaN</td>\n",
       "      <td>NaN</td>\n",
       "      <td>NaN</td>\n",
       "      <td>NaN</td>\n",
       "      <td>NaN</td>\n",
       "      <td>NaN</td>\n",
       "      <td>NaN</td>\n",
       "      <td>NaN</td>\n",
       "      <td>NaN</td>\n",
       "    </tr>\n",
       "    <tr>\n",
       "      <th>1</th>\n",
       "      <td>1</td>\n",
       "      <td>eye do naught want two hear it  cyka blyat</td>\n",
       "      <td>NaN</td>\n",
       "      <td>NaN</td>\n",
       "      <td>NaN</td>\n",
       "      <td>NaN</td>\n",
       "      <td>NaN</td>\n",
       "      <td>NaN</td>\n",
       "      <td>NaN</td>\n",
       "      <td>NaN</td>\n",
       "      <td>...</td>\n",
       "      <td>NaN</td>\n",
       "      <td>NaN</td>\n",
       "      <td>NaN</td>\n",
       "      <td>NaN</td>\n",
       "      <td>NaN</td>\n",
       "      <td>NaN</td>\n",
       "      <td>NaN</td>\n",
       "      <td>NaN</td>\n",
       "      <td>NaN</td>\n",
       "      <td>NaN</td>\n",
       "    </tr>\n",
       "    <tr>\n",
       "      <th>2</th>\n",
       "      <td>1</td>\n",
       "      <td>eW fkgAM  GS xW  RWApodcast Cyka  Bro that s ...</td>\n",
       "      <td>NaN</td>\n",
       "      <td>NaN</td>\n",
       "      <td>NaN</td>\n",
       "      <td>NaN</td>\n",
       "      <td>NaN</td>\n",
       "      <td>NaN</td>\n",
       "      <td>NaN</td>\n",
       "      <td>NaN</td>\n",
       "      <td>...</td>\n",
       "      <td>NaN</td>\n",
       "      <td>NaN</td>\n",
       "      <td>NaN</td>\n",
       "      <td>NaN</td>\n",
       "      <td>NaN</td>\n",
       "      <td>NaN</td>\n",
       "      <td>NaN</td>\n",
       "      <td>NaN</td>\n",
       "      <td>NaN</td>\n",
       "      <td>NaN</td>\n",
       "    </tr>\n",
       "    <tr>\n",
       "      <th>3</th>\n",
       "      <td>1</td>\n",
       "      <td>Cryptic Cyka hmmmmmmmmm women hmmm</td>\n",
       "      <td>NaN</td>\n",
       "      <td>NaN</td>\n",
       "      <td>NaN</td>\n",
       "      <td>NaN</td>\n",
       "      <td>NaN</td>\n",
       "      <td>NaN</td>\n",
       "      <td>NaN</td>\n",
       "      <td>NaN</td>\n",
       "      <td>...</td>\n",
       "      <td>NaN</td>\n",
       "      <td>NaN</td>\n",
       "      <td>NaN</td>\n",
       "      <td>NaN</td>\n",
       "      <td>NaN</td>\n",
       "      <td>NaN</td>\n",
       "      <td>NaN</td>\n",
       "      <td>NaN</td>\n",
       "      <td>NaN</td>\n",
       "      <td>NaN</td>\n",
       "    </tr>\n",
       "    <tr>\n",
       "      <th>4</th>\n",
       "      <td>1</td>\n",
       "      <td>Cryptic Cyka that s a really good drawing man</td>\n",
       "      <td>NaN</td>\n",
       "      <td>NaN</td>\n",
       "      <td>NaN</td>\n",
       "      <td>NaN</td>\n",
       "      <td>NaN</td>\n",
       "      <td>NaN</td>\n",
       "      <td>NaN</td>\n",
       "      <td>(  )</td>\n",
       "      <td>...</td>\n",
       "      <td>NaN</td>\n",
       "      <td>NaN</td>\n",
       "      <td>NaN</td>\n",
       "      <td>NaN</td>\n",
       "      <td>NaN</td>\n",
       "      <td>NaN</td>\n",
       "      <td>NaN</td>\n",
       "      <td>NaN</td>\n",
       "      <td>NaN</td>\n",
       "      <td>NaN</td>\n",
       "    </tr>\n",
       "  </tbody>\n",
       "</table>\n",
       "<p>5 rows × 39 columns</p>\n",
       "</div>"
      ],
      "text/plain": [
       "   0                                                  1   2   3   4   5   6   \\\n",
       "0   1  Ekaterina Vinokourova  the only daughter of Ru... NaN NaN NaN NaN NaN   \n",
       "1   1         eye do naught want two hear it  cyka blyat NaN NaN NaN NaN NaN   \n",
       "2   1   eW fkgAM  GS xW  RWApodcast Cyka  Bro that s ... NaN NaN NaN NaN NaN   \n",
       "3   1                 Cryptic Cyka hmmmmmmmmm women hmmm NaN NaN NaN NaN NaN   \n",
       "4   1      Cryptic Cyka that s a really good drawing man NaN NaN NaN NaN NaN   \n",
       "\n",
       "   7   8     9   ...  29  30  31  32  33  34  35  36  37   38  \n",
       "0 NaN NaN   NaN  ... NaN NaN NaN NaN NaN NaN NaN NaN NaN  NaN  \n",
       "1 NaN NaN   NaN  ... NaN NaN NaN NaN NaN NaN NaN NaN NaN  NaN  \n",
       "2 NaN NaN   NaN  ... NaN NaN NaN NaN NaN NaN NaN NaN NaN  NaN  \n",
       "3 NaN NaN   NaN  ... NaN NaN NaN NaN NaN NaN NaN NaN NaN  NaN  \n",
       "4 NaN NaN  (  )  ... NaN NaN NaN NaN NaN NaN NaN NaN NaN  NaN  \n",
       "\n",
       "[5 rows x 39 columns]"
      ]
     },
     "execution_count": 4,
     "metadata": {},
     "output_type": "execute_result"
    }
   ],
   "source": [
    "df.head()"
   ]
  },
  {
   "cell_type": "code",
   "execution_count": 5,
   "metadata": {},
   "outputs": [
    {
     "data": {
      "text/html": [
       "<div>\n",
       "<style scoped>\n",
       "    .dataframe tbody tr th:only-of-type {\n",
       "        vertical-align: middle;\n",
       "    }\n",
       "\n",
       "    .dataframe tbody tr th {\n",
       "        vertical-align: top;\n",
       "    }\n",
       "\n",
       "    .dataframe thead th {\n",
       "        text-align: right;\n",
       "    }\n",
       "</style>\n",
       "<table border=\"1\" class=\"dataframe\">\n",
       "  <thead>\n",
       "    <tr style=\"text-align: right;\">\n",
       "      <th></th>\n",
       "      <th>0</th>\n",
       "      <th>1</th>\n",
       "      <th>2</th>\n",
       "      <th>3</th>\n",
       "      <th>4</th>\n",
       "      <th>5</th>\n",
       "      <th>6</th>\n",
       "      <th>7</th>\n",
       "      <th>8</th>\n",
       "      <th>9</th>\n",
       "      <th>...</th>\n",
       "      <th>29</th>\n",
       "      <th>30</th>\n",
       "      <th>31</th>\n",
       "      <th>32</th>\n",
       "      <th>33</th>\n",
       "      <th>34</th>\n",
       "      <th>35</th>\n",
       "      <th>36</th>\n",
       "      <th>37</th>\n",
       "      <th>38</th>\n",
       "    </tr>\n",
       "  </thead>\n",
       "  <tbody>\n",
       "    <tr>\n",
       "      <th>290</th>\n",
       "      <td>0</td>\n",
       "      <td>I love thi game</td>\n",
       "      <td>NaN</td>\n",
       "      <td>NaN</td>\n",
       "      <td>NaN</td>\n",
       "      <td>NaN</td>\n",
       "      <td>NaN</td>\n",
       "      <td>NaN</td>\n",
       "      <td>NaN</td>\n",
       "      <td>NaN</td>\n",
       "      <td>...</td>\n",
       "      <td>NaN</td>\n",
       "      <td>NaN</td>\n",
       "      <td>NaN</td>\n",
       "      <td>NaN</td>\n",
       "      <td>NaN</td>\n",
       "      <td>NaN</td>\n",
       "      <td>NaN</td>\n",
       "      <td>NaN</td>\n",
       "      <td>NaN</td>\n",
       "      <td>NaN</td>\n",
       "    </tr>\n",
       "    <tr>\n",
       "      <th>291</th>\n",
       "      <td>0</td>\n",
       "      <td>game graphics is eye catching</td>\n",
       "      <td>NaN</td>\n",
       "      <td>NaN</td>\n",
       "      <td>NaN</td>\n",
       "      <td>NaN</td>\n",
       "      <td>NaN</td>\n",
       "      <td>NaN</td>\n",
       "      <td>NaN</td>\n",
       "      <td>NaN</td>\n",
       "      <td>...</td>\n",
       "      <td>NaN</td>\n",
       "      <td>NaN</td>\n",
       "      <td>NaN</td>\n",
       "      <td>NaN</td>\n",
       "      <td>NaN</td>\n",
       "      <td>NaN</td>\n",
       "      <td>NaN</td>\n",
       "      <td>NaN</td>\n",
       "      <td>NaN</td>\n",
       "      <td>NaN</td>\n",
       "    </tr>\n",
       "    <tr>\n",
       "      <th>292</th>\n",
       "      <td>0</td>\n",
       "      <td>Game level is really enjoyable</td>\n",
       "      <td>NaN</td>\n",
       "      <td>NaN</td>\n",
       "      <td>NaN</td>\n",
       "      <td>NaN</td>\n",
       "      <td>NaN</td>\n",
       "      <td>NaN</td>\n",
       "      <td>NaN</td>\n",
       "      <td>NaN</td>\n",
       "      <td>...</td>\n",
       "      <td>NaN</td>\n",
       "      <td>NaN</td>\n",
       "      <td>NaN</td>\n",
       "      <td>NaN</td>\n",
       "      <td>NaN</td>\n",
       "      <td>NaN</td>\n",
       "      <td>NaN</td>\n",
       "      <td>NaN</td>\n",
       "      <td>NaN</td>\n",
       "      <td>NaN</td>\n",
       "    </tr>\n",
       "    <tr>\n",
       "      <th>293</th>\n",
       "      <td>0</td>\n",
       "      <td>Good Pixel and very beautiful tool</td>\n",
       "      <td>NaN</td>\n",
       "      <td>NaN</td>\n",
       "      <td>NaN</td>\n",
       "      <td>NaN</td>\n",
       "      <td>NaN</td>\n",
       "      <td>NaN</td>\n",
       "      <td>NaN</td>\n",
       "      <td>NaN</td>\n",
       "      <td>...</td>\n",
       "      <td>NaN</td>\n",
       "      <td>NaN</td>\n",
       "      <td>NaN</td>\n",
       "      <td>NaN</td>\n",
       "      <td>NaN</td>\n",
       "      <td>NaN</td>\n",
       "      <td>NaN</td>\n",
       "      <td>NaN</td>\n",
       "      <td>NaN</td>\n",
       "      <td>NaN</td>\n",
       "    </tr>\n",
       "    <tr>\n",
       "      <th>294</th>\n",
       "      <td>0</td>\n",
       "      <td>you are free so come online and play with me</td>\n",
       "      <td>NaN</td>\n",
       "      <td>NaN</td>\n",
       "      <td>NaN</td>\n",
       "      <td>NaN</td>\n",
       "      <td>NaN</td>\n",
       "      <td>NaN</td>\n",
       "      <td>NaN</td>\n",
       "      <td>NaN</td>\n",
       "      <td>...</td>\n",
       "      <td>NaN</td>\n",
       "      <td>NaN</td>\n",
       "      <td>NaN</td>\n",
       "      <td>NaN</td>\n",
       "      <td>NaN</td>\n",
       "      <td>NaN</td>\n",
       "      <td>NaN</td>\n",
       "      <td>NaN</td>\n",
       "      <td>NaN</td>\n",
       "      <td>NaN</td>\n",
       "    </tr>\n",
       "  </tbody>\n",
       "</table>\n",
       "<p>5 rows × 39 columns</p>\n",
       "</div>"
      ],
      "text/plain": [
       "     0                                              1   2   3   4   5   6   \\\n",
       "290   0                                I love thi game NaN NaN NaN NaN NaN   \n",
       "291   0                  game graphics is eye catching NaN NaN NaN NaN NaN   \n",
       "292   0                 Game level is really enjoyable NaN NaN NaN NaN NaN   \n",
       "293   0             Good Pixel and very beautiful tool NaN NaN NaN NaN NaN   \n",
       "294   0   you are free so come online and play with me NaN NaN NaN NaN NaN   \n",
       "\n",
       "     7   8    9   ...  29  30  31  32  33  34  35  36  37   38  \n",
       "290 NaN NaN  NaN  ... NaN NaN NaN NaN NaN NaN NaN NaN NaN  NaN  \n",
       "291 NaN NaN  NaN  ... NaN NaN NaN NaN NaN NaN NaN NaN NaN  NaN  \n",
       "292 NaN NaN  NaN  ... NaN NaN NaN NaN NaN NaN NaN NaN NaN  NaN  \n",
       "293 NaN NaN  NaN  ... NaN NaN NaN NaN NaN NaN NaN NaN NaN  NaN  \n",
       "294 NaN NaN  NaN  ... NaN NaN NaN NaN NaN NaN NaN NaN NaN  NaN  \n",
       "\n",
       "[5 rows x 39 columns]"
      ]
     },
     "execution_count": 5,
     "metadata": {},
     "output_type": "execute_result"
    }
   ],
   "source": [
    "df.tail(5)"
   ]
  },
  {
   "cell_type": "markdown",
   "metadata": {},
   "source": [
    "# 1. Data Cleaning"
   ]
  },
  {
   "cell_type": "code",
   "execution_count": 6,
   "metadata": {},
   "outputs": [],
   "source": [
    "# rename the columns.\n",
    "df.rename(columns = {0:'target', 1 : 'tweets'}, inplace = True)"
   ]
  },
  {
   "cell_type": "code",
   "execution_count": 7,
   "metadata": {},
   "outputs": [
    {
     "data": {
      "text/html": [
       "<div>\n",
       "<style scoped>\n",
       "    .dataframe tbody tr th:only-of-type {\n",
       "        vertical-align: middle;\n",
       "    }\n",
       "\n",
       "    .dataframe tbody tr th {\n",
       "        vertical-align: top;\n",
       "    }\n",
       "\n",
       "    .dataframe thead th {\n",
       "        text-align: right;\n",
       "    }\n",
       "</style>\n",
       "<table border=\"1\" class=\"dataframe\">\n",
       "  <thead>\n",
       "    <tr style=\"text-align: right;\">\n",
       "      <th></th>\n",
       "      <th>target</th>\n",
       "      <th>tweets</th>\n",
       "      <th>2</th>\n",
       "      <th>3</th>\n",
       "      <th>4</th>\n",
       "      <th>5</th>\n",
       "      <th>6</th>\n",
       "      <th>7</th>\n",
       "      <th>8</th>\n",
       "      <th>9</th>\n",
       "      <th>...</th>\n",
       "      <th>29</th>\n",
       "      <th>30</th>\n",
       "      <th>31</th>\n",
       "      <th>32</th>\n",
       "      <th>33</th>\n",
       "      <th>34</th>\n",
       "      <th>35</th>\n",
       "      <th>36</th>\n",
       "      <th>37</th>\n",
       "      <th>38</th>\n",
       "    </tr>\n",
       "  </thead>\n",
       "  <tbody>\n",
       "    <tr>\n",
       "      <th>0</th>\n",
       "      <td>1</td>\n",
       "      <td>Ekaterina Vinokourova  the only daughter of Ru...</td>\n",
       "      <td>NaN</td>\n",
       "      <td>NaN</td>\n",
       "      <td>NaN</td>\n",
       "      <td>NaN</td>\n",
       "      <td>NaN</td>\n",
       "      <td>NaN</td>\n",
       "      <td>NaN</td>\n",
       "      <td>NaN</td>\n",
       "      <td>...</td>\n",
       "      <td>NaN</td>\n",
       "      <td>NaN</td>\n",
       "      <td>NaN</td>\n",
       "      <td>NaN</td>\n",
       "      <td>NaN</td>\n",
       "      <td>NaN</td>\n",
       "      <td>NaN</td>\n",
       "      <td>NaN</td>\n",
       "      <td>NaN</td>\n",
       "      <td>NaN</td>\n",
       "    </tr>\n",
       "    <tr>\n",
       "      <th>1</th>\n",
       "      <td>1</td>\n",
       "      <td>eye do naught want two hear it  cyka blyat</td>\n",
       "      <td>NaN</td>\n",
       "      <td>NaN</td>\n",
       "      <td>NaN</td>\n",
       "      <td>NaN</td>\n",
       "      <td>NaN</td>\n",
       "      <td>NaN</td>\n",
       "      <td>NaN</td>\n",
       "      <td>NaN</td>\n",
       "      <td>...</td>\n",
       "      <td>NaN</td>\n",
       "      <td>NaN</td>\n",
       "      <td>NaN</td>\n",
       "      <td>NaN</td>\n",
       "      <td>NaN</td>\n",
       "      <td>NaN</td>\n",
       "      <td>NaN</td>\n",
       "      <td>NaN</td>\n",
       "      <td>NaN</td>\n",
       "      <td>NaN</td>\n",
       "    </tr>\n",
       "    <tr>\n",
       "      <th>2</th>\n",
       "      <td>1</td>\n",
       "      <td>eW fkgAM  GS xW  RWApodcast Cyka  Bro that s ...</td>\n",
       "      <td>NaN</td>\n",
       "      <td>NaN</td>\n",
       "      <td>NaN</td>\n",
       "      <td>NaN</td>\n",
       "      <td>NaN</td>\n",
       "      <td>NaN</td>\n",
       "      <td>NaN</td>\n",
       "      <td>NaN</td>\n",
       "      <td>...</td>\n",
       "      <td>NaN</td>\n",
       "      <td>NaN</td>\n",
       "      <td>NaN</td>\n",
       "      <td>NaN</td>\n",
       "      <td>NaN</td>\n",
       "      <td>NaN</td>\n",
       "      <td>NaN</td>\n",
       "      <td>NaN</td>\n",
       "      <td>NaN</td>\n",
       "      <td>NaN</td>\n",
       "    </tr>\n",
       "    <tr>\n",
       "      <th>3</th>\n",
       "      <td>1</td>\n",
       "      <td>Cryptic Cyka hmmmmmmmmm women hmmm</td>\n",
       "      <td>NaN</td>\n",
       "      <td>NaN</td>\n",
       "      <td>NaN</td>\n",
       "      <td>NaN</td>\n",
       "      <td>NaN</td>\n",
       "      <td>NaN</td>\n",
       "      <td>NaN</td>\n",
       "      <td>NaN</td>\n",
       "      <td>...</td>\n",
       "      <td>NaN</td>\n",
       "      <td>NaN</td>\n",
       "      <td>NaN</td>\n",
       "      <td>NaN</td>\n",
       "      <td>NaN</td>\n",
       "      <td>NaN</td>\n",
       "      <td>NaN</td>\n",
       "      <td>NaN</td>\n",
       "      <td>NaN</td>\n",
       "      <td>NaN</td>\n",
       "    </tr>\n",
       "    <tr>\n",
       "      <th>4</th>\n",
       "      <td>1</td>\n",
       "      <td>Cryptic Cyka that s a really good drawing man</td>\n",
       "      <td>NaN</td>\n",
       "      <td>NaN</td>\n",
       "      <td>NaN</td>\n",
       "      <td>NaN</td>\n",
       "      <td>NaN</td>\n",
       "      <td>NaN</td>\n",
       "      <td>NaN</td>\n",
       "      <td>(  )</td>\n",
       "      <td>...</td>\n",
       "      <td>NaN</td>\n",
       "      <td>NaN</td>\n",
       "      <td>NaN</td>\n",
       "      <td>NaN</td>\n",
       "      <td>NaN</td>\n",
       "      <td>NaN</td>\n",
       "      <td>NaN</td>\n",
       "      <td>NaN</td>\n",
       "      <td>NaN</td>\n",
       "      <td>NaN</td>\n",
       "    </tr>\n",
       "  </tbody>\n",
       "</table>\n",
       "<p>5 rows × 39 columns</p>\n",
       "</div>"
      ],
      "text/plain": [
       "   target                                             tweets   2   3   4   5  \\\n",
       "0       1  Ekaterina Vinokourova  the only daughter of Ru... NaN NaN NaN NaN   \n",
       "1       1         eye do naught want two hear it  cyka blyat NaN NaN NaN NaN   \n",
       "2       1   eW fkgAM  GS xW  RWApodcast Cyka  Bro that s ... NaN NaN NaN NaN   \n",
       "3       1                 Cryptic Cyka hmmmmmmmmm women hmmm NaN NaN NaN NaN   \n",
       "4       1      Cryptic Cyka that s a really good drawing man NaN NaN NaN NaN   \n",
       "\n",
       "    6   7   8     9  ...  29  30  31  32  33  34  35  36  37   38  \n",
       "0 NaN NaN NaN   NaN  ... NaN NaN NaN NaN NaN NaN NaN NaN NaN  NaN  \n",
       "1 NaN NaN NaN   NaN  ... NaN NaN NaN NaN NaN NaN NaN NaN NaN  NaN  \n",
       "2 NaN NaN NaN   NaN  ... NaN NaN NaN NaN NaN NaN NaN NaN NaN  NaN  \n",
       "3 NaN NaN NaN   NaN  ... NaN NaN NaN NaN NaN NaN NaN NaN NaN  NaN  \n",
       "4 NaN NaN NaN  (  )  ... NaN NaN NaN NaN NaN NaN NaN NaN NaN  NaN  \n",
       "\n",
       "[5 rows x 39 columns]"
      ]
     },
     "execution_count": 7,
     "metadata": {},
     "output_type": "execute_result"
    }
   ],
   "source": [
    "df.head()"
   ]
  },
  {
   "cell_type": "code",
   "execution_count": 8,
   "metadata": {},
   "outputs": [],
   "source": [
    "df = df[['tweets', 'target']]"
   ]
  },
  {
   "cell_type": "code",
   "execution_count": 9,
   "metadata": {},
   "outputs": [
    {
     "data": {
      "text/html": [
       "<div>\n",
       "<style scoped>\n",
       "    .dataframe tbody tr th:only-of-type {\n",
       "        vertical-align: middle;\n",
       "    }\n",
       "\n",
       "    .dataframe tbody tr th {\n",
       "        vertical-align: top;\n",
       "    }\n",
       "\n",
       "    .dataframe thead th {\n",
       "        text-align: right;\n",
       "    }\n",
       "</style>\n",
       "<table border=\"1\" class=\"dataframe\">\n",
       "  <thead>\n",
       "    <tr style=\"text-align: right;\">\n",
       "      <th></th>\n",
       "      <th>tweets</th>\n",
       "      <th>target</th>\n",
       "    </tr>\n",
       "  </thead>\n",
       "  <tbody>\n",
       "    <tr>\n",
       "      <th>0</th>\n",
       "      <td>Ekaterina Vinokourova  the only daughter of Ru...</td>\n",
       "      <td>1</td>\n",
       "    </tr>\n",
       "    <tr>\n",
       "      <th>1</th>\n",
       "      <td>eye do naught want two hear it  cyka blyat</td>\n",
       "      <td>1</td>\n",
       "    </tr>\n",
       "    <tr>\n",
       "      <th>2</th>\n",
       "      <td>eW fkgAM  GS xW  RWApodcast Cyka  Bro that s ...</td>\n",
       "      <td>1</td>\n",
       "    </tr>\n",
       "    <tr>\n",
       "      <th>3</th>\n",
       "      <td>Cryptic Cyka hmmmmmmmmm women hmmm</td>\n",
       "      <td>1</td>\n",
       "    </tr>\n",
       "    <tr>\n",
       "      <th>4</th>\n",
       "      <td>Cryptic Cyka that s a really good drawing man</td>\n",
       "      <td>1</td>\n",
       "    </tr>\n",
       "  </tbody>\n",
       "</table>\n",
       "</div>"
      ],
      "text/plain": [
       "                                              tweets  target\n",
       "0  Ekaterina Vinokourova  the only daughter of Ru...       1\n",
       "1         eye do naught want two hear it  cyka blyat       1\n",
       "2   eW fkgAM  GS xW  RWApodcast Cyka  Bro that s ...       1\n",
       "3                 Cryptic Cyka hmmmmmmmmm women hmmm       1\n",
       "4      Cryptic Cyka that s a really good drawing man       1"
      ]
     },
     "execution_count": 9,
     "metadata": {},
     "output_type": "execute_result"
    }
   ],
   "source": [
    "df.head()"
   ]
  },
  {
   "cell_type": "code",
   "execution_count": 10,
   "metadata": {},
   "outputs": [
    {
     "data": {
      "text/plain": [
       "(295, 2)"
      ]
     },
     "execution_count": 10,
     "metadata": {},
     "output_type": "execute_result"
    }
   ],
   "source": [
    "df.shape"
   ]
  },
  {
   "cell_type": "code",
   "execution_count": 11,
   "metadata": {},
   "outputs": [
    {
     "name": "stdout",
     "output_type": "stream",
     "text": [
      "<class 'pandas.core.frame.DataFrame'>\n",
      "RangeIndex: 295 entries, 0 to 294\n",
      "Data columns (total 2 columns):\n",
      " #   Column  Non-Null Count  Dtype \n",
      "---  ------  --------------  ----- \n",
      " 0   tweets  295 non-null    object\n",
      " 1   target  295 non-null    int64 \n",
      "dtypes: int64(1), object(1)\n",
      "memory usage: 4.7+ KB\n"
     ]
    }
   ],
   "source": [
    "df.info()"
   ]
  },
  {
   "cell_type": "code",
   "execution_count": 12,
   "metadata": {},
   "outputs": [
    {
     "data": {
      "text/html": [
       "<div>\n",
       "<style scoped>\n",
       "    .dataframe tbody tr th:only-of-type {\n",
       "        vertical-align: middle;\n",
       "    }\n",
       "\n",
       "    .dataframe tbody tr th {\n",
       "        vertical-align: top;\n",
       "    }\n",
       "\n",
       "    .dataframe thead th {\n",
       "        text-align: right;\n",
       "    }\n",
       "</style>\n",
       "<table border=\"1\" class=\"dataframe\">\n",
       "  <thead>\n",
       "    <tr style=\"text-align: right;\">\n",
       "      <th></th>\n",
       "      <th>target</th>\n",
       "    </tr>\n",
       "  </thead>\n",
       "  <tbody>\n",
       "    <tr>\n",
       "      <th>count</th>\n",
       "      <td>295.000000</td>\n",
       "    </tr>\n",
       "    <tr>\n",
       "      <th>mean</th>\n",
       "      <td>0.111864</td>\n",
       "    </tr>\n",
       "    <tr>\n",
       "      <th>std</th>\n",
       "      <td>0.315735</td>\n",
       "    </tr>\n",
       "    <tr>\n",
       "      <th>min</th>\n",
       "      <td>0.000000</td>\n",
       "    </tr>\n",
       "    <tr>\n",
       "      <th>25%</th>\n",
       "      <td>0.000000</td>\n",
       "    </tr>\n",
       "    <tr>\n",
       "      <th>50%</th>\n",
       "      <td>0.000000</td>\n",
       "    </tr>\n",
       "    <tr>\n",
       "      <th>75%</th>\n",
       "      <td>0.000000</td>\n",
       "    </tr>\n",
       "    <tr>\n",
       "      <th>max</th>\n",
       "      <td>1.000000</td>\n",
       "    </tr>\n",
       "  </tbody>\n",
       "</table>\n",
       "</div>"
      ],
      "text/plain": [
       "           target\n",
       "count  295.000000\n",
       "mean     0.111864\n",
       "std      0.315735\n",
       "min      0.000000\n",
       "25%      0.000000\n",
       "50%      0.000000\n",
       "75%      0.000000\n",
       "max      1.000000"
      ]
     },
     "execution_count": 12,
     "metadata": {},
     "output_type": "execute_result"
    }
   ],
   "source": [
    "df.describe()"
   ]
  },
  {
   "cell_type": "code",
   "execution_count": 13,
   "metadata": {},
   "outputs": [
    {
     "data": {
      "text/plain": [
       "Index(['tweets', 'target'], dtype='object')"
      ]
     },
     "execution_count": 13,
     "metadata": {},
     "output_type": "execute_result"
    }
   ],
   "source": [
    "df.columns"
   ]
  },
  {
   "cell_type": "code",
   "execution_count": 14,
   "metadata": {},
   "outputs": [
    {
     "data": {
      "text/plain": [
       "tweets    0\n",
       "target    0\n",
       "dtype: int64"
      ]
     },
     "execution_count": 14,
     "metadata": {},
     "output_type": "execute_result"
    }
   ],
   "source": [
    "# check missing values\n",
    "df.isnull().sum()"
   ]
  },
  {
   "cell_type": "code",
   "execution_count": 15,
   "metadata": {},
   "outputs": [
    {
     "data": {
      "text/plain": [
       "6"
      ]
     },
     "execution_count": 15,
     "metadata": {},
     "output_type": "execute_result"
    }
   ],
   "source": [
    "# check duplicate values\n",
    "df.duplicated().sum()"
   ]
  },
  {
   "cell_type": "code",
   "execution_count": 16,
   "metadata": {},
   "outputs": [
    {
     "data": {
      "text/plain": [
       "(295, 2)"
      ]
     },
     "execution_count": 16,
     "metadata": {},
     "output_type": "execute_result"
    }
   ],
   "source": [
    "df.shape"
   ]
  },
  {
   "cell_type": "code",
   "execution_count": 17,
   "metadata": {},
   "outputs": [],
   "source": [
    "# remove duplicates value\n",
    "df = df.drop_duplicates()    "
   ]
  },
  {
   "cell_type": "code",
   "execution_count": 18,
   "metadata": {},
   "outputs": [
    {
     "data": {
      "text/plain": [
       "0"
      ]
     },
     "execution_count": 18,
     "metadata": {},
     "output_type": "execute_result"
    }
   ],
   "source": [
    "# check duplicate values\n",
    "df.duplicated().sum()"
   ]
  },
  {
   "cell_type": "code",
   "execution_count": 19,
   "metadata": {},
   "outputs": [
    {
     "data": {
      "text/plain": [
       "(289, 2)"
      ]
     },
     "execution_count": 19,
     "metadata": {},
     "output_type": "execute_result"
    }
   ],
   "source": [
    "df.shape"
   ]
  },
  {
   "cell_type": "code",
   "execution_count": 20,
   "metadata": {},
   "outputs": [
    {
     "data": {
      "text/plain": [
       "tweets    0\n",
       "target    0\n",
       "dtype: int64"
      ]
     },
     "execution_count": 20,
     "metadata": {},
     "output_type": "execute_result"
    }
   ],
   "source": [
    "df.isnull().sum()"
   ]
  },
  {
   "cell_type": "markdown",
   "metadata": {},
   "source": [
    "# 2. Exploratory Data Analysis"
   ]
  },
  {
   "cell_type": "code",
   "execution_count": 21,
   "metadata": {},
   "outputs": [
    {
     "data": {
      "text/html": [
       "<div>\n",
       "<style scoped>\n",
       "    .dataframe tbody tr th:only-of-type {\n",
       "        vertical-align: middle;\n",
       "    }\n",
       "\n",
       "    .dataframe tbody tr th {\n",
       "        vertical-align: top;\n",
       "    }\n",
       "\n",
       "    .dataframe thead th {\n",
       "        text-align: right;\n",
       "    }\n",
       "</style>\n",
       "<table border=\"1\" class=\"dataframe\">\n",
       "  <thead>\n",
       "    <tr style=\"text-align: right;\">\n",
       "      <th></th>\n",
       "      <th>tweets</th>\n",
       "      <th>target</th>\n",
       "    </tr>\n",
       "  </thead>\n",
       "  <tbody>\n",
       "    <tr>\n",
       "      <th>0</th>\n",
       "      <td>Ekaterina Vinokourova  the only daughter of Ru...</td>\n",
       "      <td>1</td>\n",
       "    </tr>\n",
       "    <tr>\n",
       "      <th>1</th>\n",
       "      <td>eye do naught want two hear it  cyka blyat</td>\n",
       "      <td>1</td>\n",
       "    </tr>\n",
       "    <tr>\n",
       "      <th>2</th>\n",
       "      <td>eW fkgAM  GS xW  RWApodcast Cyka  Bro that s ...</td>\n",
       "      <td>1</td>\n",
       "    </tr>\n",
       "    <tr>\n",
       "      <th>3</th>\n",
       "      <td>Cryptic Cyka hmmmmmmmmm women hmmm</td>\n",
       "      <td>1</td>\n",
       "    </tr>\n",
       "    <tr>\n",
       "      <th>4</th>\n",
       "      <td>Cryptic Cyka that s a really good drawing man</td>\n",
       "      <td>1</td>\n",
       "    </tr>\n",
       "  </tbody>\n",
       "</table>\n",
       "</div>"
      ],
      "text/plain": [
       "                                              tweets  target\n",
       "0  Ekaterina Vinokourova  the only daughter of Ru...       1\n",
       "1         eye do naught want two hear it  cyka blyat       1\n",
       "2   eW fkgAM  GS xW  RWApodcast Cyka  Bro that s ...       1\n",
       "3                 Cryptic Cyka hmmmmmmmmm women hmmm       1\n",
       "4      Cryptic Cyka that s a really good drawing man       1"
      ]
     },
     "execution_count": 21,
     "metadata": {},
     "output_type": "execute_result"
    }
   ],
   "source": [
    "df.head()"
   ]
  },
  {
   "cell_type": "code",
   "execution_count": 22,
   "metadata": {},
   "outputs": [
    {
     "data": {
      "text/plain": [
       "0    256\n",
       "1     33\n",
       "Name: target, dtype: int64"
      ]
     },
     "execution_count": 22,
     "metadata": {},
     "output_type": "execute_result"
    }
   ],
   "source": [
    "df['target'].value_counts()"
   ]
  },
  {
   "cell_type": "code",
   "execution_count": 23,
   "metadata": {},
   "outputs": [
    {
     "data": {
      "image/png": "[encoded data removed]",
      "text/plain": [
       "<Figure size 432x288 with 1 Axes>"
      ]
     },
     "metadata": {},
     "output_type": "display_data"
    }
   ],
   "source": [
    "plt.pie(df['target'].value_counts(), labels = ['Positive', 'Toxic'], autopct = '%0.2f')\n",
    "plt.show()"
   ]
  },
  {
   "cell_type": "code",
   "execution_count": 24,
   "metadata": {},
   "outputs": [],
   "source": [
    "# calculate the number of characters \n",
    "df['num_of_characters'] = df['tweets'].apply(len)"
   ]
  },
  {
   "cell_type": "code",
   "execution_count": 25,
   "metadata": {
    "scrolled": false
   },
   "outputs": [
    {
     "data": {
      "text/html": [
       "<div>\n",
       "<style scoped>\n",
       "    .dataframe tbody tr th:only-of-type {\n",
       "        vertical-align: middle;\n",
       "    }\n",
       "\n",
       "    .dataframe tbody tr th {\n",
       "        vertical-align: top;\n",
       "    }\n",
       "\n",
       "    .dataframe thead th {\n",
       "        text-align: right;\n",
       "    }\n",
       "</style>\n",
       "<table border=\"1\" class=\"dataframe\">\n",
       "  <thead>\n",
       "    <tr style=\"text-align: right;\">\n",
       "      <th></th>\n",
       "      <th>tweets</th>\n",
       "      <th>target</th>\n",
       "      <th>num_of_characters</th>\n",
       "    </tr>\n",
       "  </thead>\n",
       "  <tbody>\n",
       "    <tr>\n",
       "      <th>0</th>\n",
       "      <td>Ekaterina Vinokourova  the only daughter of Ru...</td>\n",
       "      <td>1</td>\n",
       "      <td>303</td>\n",
       "    </tr>\n",
       "    <tr>\n",
       "      <th>1</th>\n",
       "      <td>eye do naught want two hear it  cyka blyat</td>\n",
       "      <td>1</td>\n",
       "      <td>42</td>\n",
       "    </tr>\n",
       "    <tr>\n",
       "      <th>2</th>\n",
       "      <td>eW fkgAM  GS xW  RWApodcast Cyka  Bro that s ...</td>\n",
       "      <td>1</td>\n",
       "      <td>221</td>\n",
       "    </tr>\n",
       "    <tr>\n",
       "      <th>3</th>\n",
       "      <td>Cryptic Cyka hmmmmmmmmm women hmmm</td>\n",
       "      <td>1</td>\n",
       "      <td>35</td>\n",
       "    </tr>\n",
       "    <tr>\n",
       "      <th>4</th>\n",
       "      <td>Cryptic Cyka that s a really good drawing man</td>\n",
       "      <td>1</td>\n",
       "      <td>46</td>\n",
       "    </tr>\n",
       "  </tbody>\n",
       "</table>\n",
       "</div>"
      ],
      "text/plain": [
       "                                              tweets  target  \\\n",
       "0  Ekaterina Vinokourova  the only daughter of Ru...       1   \n",
       "1         eye do naught want two hear it  cyka blyat       1   \n",
       "2   eW fkgAM  GS xW  RWApodcast Cyka  Bro that s ...       1   \n",
       "3                 Cryptic Cyka hmmmmmmmmm women hmmm       1   \n",
       "4      Cryptic Cyka that s a really good drawing man       1   \n",
       "\n",
       "   num_of_characters  \n",
       "0                303  \n",
       "1                 42  \n",
       "2                221  \n",
       "3                 35  \n",
       "4                 46  "
      ]
     },
     "execution_count": 25,
     "metadata": {},
     "output_type": "execute_result"
    }
   ],
   "source": [
    "df.head()"
   ]
  },
  {
   "cell_type": "code",
   "execution_count": 26,
   "metadata": {},
   "outputs": [],
   "source": [
    "# calculate number of words\n",
    "df['num_of_words'] = df['tweets'].apply(lambda x: len(nltk.word_tokenize(x)))"
   ]
  },
  {
   "cell_type": "code",
   "execution_count": 27,
   "metadata": {},
   "outputs": [
    {
     "data": {
      "text/html": [
       "<div>\n",
       "<style scoped>\n",
       "    .dataframe tbody tr th:only-of-type {\n",
       "        vertical-align: middle;\n",
       "    }\n",
       "\n",
       "    .dataframe tbody tr th {\n",
       "        vertical-align: top;\n",
       "    }\n",
       "\n",
       "    .dataframe thead th {\n",
       "        text-align: right;\n",
       "    }\n",
       "</style>\n",
       "<table border=\"1\" class=\"dataframe\">\n",
       "  <thead>\n",
       "    <tr style=\"text-align: right;\">\n",
       "      <th></th>\n",
       "      <th>tweets</th>\n",
       "      <th>target</th>\n",
       "      <th>num_of_characters</th>\n",
       "      <th>num_of_words</th>\n",
       "    </tr>\n",
       "  </thead>\n",
       "  <tbody>\n",
       "    <tr>\n",
       "      <th>0</th>\n",
       "      <td>Ekaterina Vinokourova  the only daughter of Ru...</td>\n",
       "      <td>1</td>\n",
       "      <td>303</td>\n",
       "      <td>46</td>\n",
       "    </tr>\n",
       "    <tr>\n",
       "      <th>1</th>\n",
       "      <td>eye do naught want two hear it  cyka blyat</td>\n",
       "      <td>1</td>\n",
       "      <td>42</td>\n",
       "      <td>9</td>\n",
       "    </tr>\n",
       "    <tr>\n",
       "      <th>2</th>\n",
       "      <td>eW fkgAM  GS xW  RWApodcast Cyka  Bro that s ...</td>\n",
       "      <td>1</td>\n",
       "      <td>221</td>\n",
       "      <td>41</td>\n",
       "    </tr>\n",
       "    <tr>\n",
       "      <th>3</th>\n",
       "      <td>Cryptic Cyka hmmmmmmmmm women hmmm</td>\n",
       "      <td>1</td>\n",
       "      <td>35</td>\n",
       "      <td>5</td>\n",
       "    </tr>\n",
       "    <tr>\n",
       "      <th>4</th>\n",
       "      <td>Cryptic Cyka that s a really good drawing man</td>\n",
       "      <td>1</td>\n",
       "      <td>46</td>\n",
       "      <td>9</td>\n",
       "    </tr>\n",
       "  </tbody>\n",
       "</table>\n",
       "</div>"
      ],
      "text/plain": [
       "                                              tweets  target  \\\n",
       "0  Ekaterina Vinokourova  the only daughter of Ru...       1   \n",
       "1         eye do naught want two hear it  cyka blyat       1   \n",
       "2   eW fkgAM  GS xW  RWApodcast Cyka  Bro that s ...       1   \n",
       "3                 Cryptic Cyka hmmmmmmmmm women hmmm       1   \n",
       "4      Cryptic Cyka that s a really good drawing man       1   \n",
       "\n",
       "   num_of_characters  num_of_words  \n",
       "0                303            46  \n",
       "1                 42             9  \n",
       "2                221            41  \n",
       "3                 35             5  \n",
       "4                 46             9  "
      ]
     },
     "execution_count": 27,
     "metadata": {},
     "output_type": "execute_result"
    }
   ],
   "source": [
    "df.head()"
   ]
  },
  {
   "cell_type": "code",
   "execution_count": 28,
   "metadata": {},
   "outputs": [],
   "source": [
    "# calculate number of sentences\n",
    "df['num_of_sentences'] = df['tweets'].apply(lambda x: len(nltk.sent_tokenize(x)))"
   ]
  },
  {
   "cell_type": "code",
   "execution_count": 29,
   "metadata": {},
   "outputs": [
    {
     "data": {
      "text/html": [
       "<div>\n",
       "<style scoped>\n",
       "    .dataframe tbody tr th:only-of-type {\n",
       "        vertical-align: middle;\n",
       "    }\n",
       "\n",
       "    .dataframe tbody tr th {\n",
       "        vertical-align: top;\n",
       "    }\n",
       "\n",
       "    .dataframe thead th {\n",
       "        text-align: right;\n",
       "    }\n",
       "</style>\n",
       "<table border=\"1\" class=\"dataframe\">\n",
       "  <thead>\n",
       "    <tr style=\"text-align: right;\">\n",
       "      <th></th>\n",
       "      <th>tweets</th>\n",
       "      <th>target</th>\n",
       "      <th>num_of_characters</th>\n",
       "      <th>num_of_words</th>\n",
       "      <th>num_of_sentences</th>\n",
       "    </tr>\n",
       "  </thead>\n",
       "  <tbody>\n",
       "    <tr>\n",
       "      <th>0</th>\n",
       "      <td>Ekaterina Vinokourova  the only daughter of Ru...</td>\n",
       "      <td>1</td>\n",
       "      <td>303</td>\n",
       "      <td>46</td>\n",
       "      <td>1</td>\n",
       "    </tr>\n",
       "    <tr>\n",
       "      <th>1</th>\n",
       "      <td>eye do naught want two hear it  cyka blyat</td>\n",
       "      <td>1</td>\n",
       "      <td>42</td>\n",
       "      <td>9</td>\n",
       "      <td>1</td>\n",
       "    </tr>\n",
       "    <tr>\n",
       "      <th>2</th>\n",
       "      <td>eW fkgAM  GS xW  RWApodcast Cyka  Bro that s ...</td>\n",
       "      <td>1</td>\n",
       "      <td>221</td>\n",
       "      <td>41</td>\n",
       "      <td>1</td>\n",
       "    </tr>\n",
       "    <tr>\n",
       "      <th>3</th>\n",
       "      <td>Cryptic Cyka hmmmmmmmmm women hmmm</td>\n",
       "      <td>1</td>\n",
       "      <td>35</td>\n",
       "      <td>5</td>\n",
       "      <td>1</td>\n",
       "    </tr>\n",
       "    <tr>\n",
       "      <th>4</th>\n",
       "      <td>Cryptic Cyka that s a really good drawing man</td>\n",
       "      <td>1</td>\n",
       "      <td>46</td>\n",
       "      <td>9</td>\n",
       "      <td>1</td>\n",
       "    </tr>\n",
       "  </tbody>\n",
       "</table>\n",
       "</div>"
      ],
      "text/plain": [
       "                                              tweets  target  \\\n",
       "0  Ekaterina Vinokourova  the only daughter of Ru...       1   \n",
       "1         eye do naught want two hear it  cyka blyat       1   \n",
       "2   eW fkgAM  GS xW  RWApodcast Cyka  Bro that s ...       1   \n",
       "3                 Cryptic Cyka hmmmmmmmmm women hmmm       1   \n",
       "4      Cryptic Cyka that s a really good drawing man       1   \n",
       "\n",
       "   num_of_characters  num_of_words  num_of_sentences  \n",
       "0                303            46                 1  \n",
       "1                 42             9                 1  \n",
       "2                221            41                 1  \n",
       "3                 35             5                 1  \n",
       "4                 46             9                 1  "
      ]
     },
     "execution_count": 29,
     "metadata": {},
     "output_type": "execute_result"
    }
   ],
   "source": [
    "df.head()"
   ]
  },
  {
   "cell_type": "code",
   "execution_count": 30,
   "metadata": {},
   "outputs": [
    {
     "data": {
      "text/html": [
       "<div>\n",
       "<style scoped>\n",
       "    .dataframe tbody tr th:only-of-type {\n",
       "        vertical-align: middle;\n",
       "    }\n",
       "\n",
       "    .dataframe tbody tr th {\n",
       "        vertical-align: top;\n",
       "    }\n",
       "\n",
       "    .dataframe thead th {\n",
       "        text-align: right;\n",
       "    }\n",
       "</style>\n",
       "<table border=\"1\" class=\"dataframe\">\n",
       "  <thead>\n",
       "    <tr style=\"text-align: right;\">\n",
       "      <th></th>\n",
       "      <th>num_of_characters</th>\n",
       "      <th>num_of_words</th>\n",
       "      <th>num_of_sentences</th>\n",
       "    </tr>\n",
       "  </thead>\n",
       "  <tbody>\n",
       "    <tr>\n",
       "      <th>count</th>\n",
       "      <td>289.000000</td>\n",
       "      <td>289.000000</td>\n",
       "      <td>289.0</td>\n",
       "    </tr>\n",
       "    <tr>\n",
       "      <th>mean</th>\n",
       "      <td>129.927336</td>\n",
       "      <td>23.501730</td>\n",
       "      <td>1.0</td>\n",
       "    </tr>\n",
       "    <tr>\n",
       "      <th>std</th>\n",
       "      <td>80.070487</td>\n",
       "      <td>13.664157</td>\n",
       "      <td>0.0</td>\n",
       "    </tr>\n",
       "    <tr>\n",
       "      <th>min</th>\n",
       "      <td>16.000000</td>\n",
       "      <td>4.000000</td>\n",
       "      <td>1.0</td>\n",
       "    </tr>\n",
       "    <tr>\n",
       "      <th>25%</th>\n",
       "      <td>62.000000</td>\n",
       "      <td>12.000000</td>\n",
       "      <td>1.0</td>\n",
       "    </tr>\n",
       "    <tr>\n",
       "      <th>50%</th>\n",
       "      <td>116.000000</td>\n",
       "      <td>22.000000</td>\n",
       "      <td>1.0</td>\n",
       "    </tr>\n",
       "    <tr>\n",
       "      <th>75%</th>\n",
       "      <td>191.000000</td>\n",
       "      <td>33.000000</td>\n",
       "      <td>1.0</td>\n",
       "    </tr>\n",
       "    <tr>\n",
       "      <th>max</th>\n",
       "      <td>351.000000</td>\n",
       "      <td>61.000000</td>\n",
       "      <td>1.0</td>\n",
       "    </tr>\n",
       "  </tbody>\n",
       "</table>\n",
       "</div>"
      ],
      "text/plain": [
       "       num_of_characters  num_of_words  num_of_sentences\n",
       "count         289.000000    289.000000             289.0\n",
       "mean          129.927336     23.501730               1.0\n",
       "std            80.070487     13.664157               0.0\n",
       "min            16.000000      4.000000               1.0\n",
       "25%            62.000000     12.000000               1.0\n",
       "50%           116.000000     22.000000               1.0\n",
       "75%           191.000000     33.000000               1.0\n",
       "max           351.000000     61.000000               1.0"
      ]
     },
     "execution_count": 30,
     "metadata": {},
     "output_type": "execute_result"
    }
   ],
   "source": [
    "df[['num_of_characters', 'num_of_words', 'num_of_sentences']].describe()"
   ]
  },
  {
   "cell_type": "code",
   "execution_count": 31,
   "metadata": {},
   "outputs": [
    {
     "data": {
      "text/plain": [
       "<AxesSubplot:xlabel='num_of_characters', ylabel='Count'>"
      ]
     },
     "execution_count": 31,
     "metadata": {},
     "output_type": "execute_result"
    },
    {
     "data": {
      "image/png": "[encoded data removed]",
      "text/plain": [
       "<Figure size 864x432 with 1 Axes>"
      ]
     },
     "metadata": {
      "needs_background": "light"
     },
     "output_type": "display_data"
    }
   ],
   "source": [
    "plt.figure(figsize=(12,6))\n",
    "sns.histplot(df[df['target'] == 0]['num_of_characters'])\n",
    "sns.histplot(df[df['target'] == 1]['num_of_characters'], color='red')"
   ]
  },
  {
   "cell_type": "code",
   "execution_count": 32,
   "metadata": {},
   "outputs": [
    {
     "data": {
      "text/plain": [
       "<AxesSubplot:xlabel='num_of_words', ylabel='Count'>"
      ]
     },
     "execution_count": 32,
     "metadata": {},
     "output_type": "execute_result"
    },
    {
     "data": {
      "image/png": "[encoded data removed]",
      "text/plain": [
       "<Figure size 864x432 with 1 Axes>"
      ]
     },
     "metadata": {
      "needs_background": "light"
     },
     "output_type": "display_data"
    }
   ],
   "source": [
    "plt.figure(figsize=(12,6))\n",
    "sns.histplot(df[df['target'] == 0]['num_of_words'])\n",
    "sns.histplot(df[df['target'] == 1]['num_of_words'], color='red')"
   ]
  },
  {
   "cell_type": "code",
   "execution_count": 33,
   "metadata": {},
   "outputs": [
    {
     "data": {
      "text/plain": [
       "<AxesSubplot:xlabel='num_of_sentences', ylabel='Count'>"
      ]
     },
     "execution_count": 33,
     "metadata": {},
     "output_type": "execute_result"
    },
    {
     "data": {
      "image/png": "[encoded data removed]",
      "text/plain": [
       "<Figure size 864x432 with 1 Axes>"
      ]
     },
     "metadata": {
      "needs_background": "light"
     },
     "output_type": "display_data"
    }
   ],
   "source": [
    "plt.figure(figsize=(12,6))\n",
    "sns.histplot(df[df['target'] == 0]['num_of_sentences'])\n",
    "sns.histplot(df[df['target'] == 1]['num_of_sentences'], color='red')"
   ]
  },
  {
   "cell_type": "code",
   "execution_count": 34,
   "metadata": {},
   "outputs": [
    {
     "name": "stderr",
     "output_type": "stream",
     "text": [
      "C:\\Users\\Chacha Tech\\anaconda3\\lib\\site-packages\\seaborn\\distributions.py:305: UserWarning: Dataset has 0 variance; skipping density estimate.\n",
      "  warnings.warn(msg, UserWarning)\n",
      "C:\\Users\\Chacha Tech\\anaconda3\\lib\\site-packages\\seaborn\\distributions.py:305: UserWarning: Dataset has 0 variance; skipping density estimate.\n",
      "  warnings.warn(msg, UserWarning)\n"
     ]
    },
    {
     "data": {
      "text/plain": [
       "<seaborn.axisgrid.PairGrid at 0x12f62927820>"
      ]
     },
     "execution_count": 34,
     "metadata": {},
     "output_type": "execute_result"
    },
    {
     "data": {
      "image/png": "[encoded data removed]",
      "text/plain": [
       "<Figure size 582.375x540 with 12 Axes>"
      ]
     },
     "metadata": {
      "needs_background": "light"
     },
     "output_type": "display_data"
    }
   ],
   "source": [
    "sns.pairplot(df, hue='target')"
   ]
  },
  {
   "cell_type": "markdown",
   "metadata": {},
   "source": [
    "# 3. Data Preprocessing\n",
    "## . Lower case\n",
    "## . Tokenization\n",
    "## . Removing special characters\n",
    "## . Removing stopwords and punctuations\n",
    "## . Stemming / Lemmitization"
   ]
  },
  {
   "cell_type": "code",
   "execution_count": 35,
   "metadata": {},
   "outputs": [
    {
     "data": {
      "text/plain": [
       "['i',\n",
       " 'me',\n",
       " 'my',\n",
       " 'myself',\n",
       " 'we',\n",
       " 'our',\n",
       " 'ours',\n",
       " 'ourselves',\n",
       " 'you',\n",
       " \"you're\",\n",
       " \"you've\",\n",
       " \"you'll\",\n",
       " \"you'd\",\n",
       " 'your',\n",
       " 'yours',\n",
       " 'yourself',\n",
       " 'yourselves',\n",
       " 'he',\n",
       " 'him',\n",
       " 'his',\n",
       " 'himself',\n",
       " 'she',\n",
       " \"she's\",\n",
       " 'her',\n",
       " 'hers',\n",
       " 'herself',\n",
       " 'it',\n",
       " \"it's\",\n",
       " 'its',\n",
       " 'itself',\n",
       " 'they',\n",
       " 'them',\n",
       " 'their',\n",
       " 'theirs',\n",
       " 'themselves',\n",
       " 'what',\n",
       " 'which',\n",
       " 'who',\n",
       " 'whom',\n",
       " 'this',\n",
       " 'that',\n",
       " \"that'll\",\n",
       " 'these',\n",
       " 'those',\n",
       " 'am',\n",
       " 'is',\n",
       " 'are',\n",
       " 'was',\n",
       " 'were',\n",
       " 'be',\n",
       " 'been',\n",
       " 'being',\n",
       " 'have',\n",
       " 'has',\n",
       " 'had',\n",
       " 'having',\n",
       " 'do',\n",
       " 'does',\n",
       " 'did',\n",
       " 'doing',\n",
       " 'a',\n",
       " 'an',\n",
       " 'the',\n",
       " 'and',\n",
       " 'but',\n",
       " 'if',\n",
       " 'or',\n",
       " 'because',\n",
       " 'as',\n",
       " 'until',\n",
       " 'while',\n",
       " 'of',\n",
       " 'at',\n",
       " 'by',\n",
       " 'for',\n",
       " 'with',\n",
       " 'about',\n",
       " 'against',\n",
       " 'between',\n",
       " 'into',\n",
       " 'through',\n",
       " 'during',\n",
       " 'before',\n",
       " 'after',\n",
       " 'above',\n",
       " 'below',\n",
       " 'to',\n",
       " 'from',\n",
       " 'up',\n",
       " 'down',\n",
       " 'in',\n",
       " 'out',\n",
       " 'on',\n",
       " 'off',\n",
       " 'over',\n",
       " 'under',\n",
       " 'again',\n",
       " 'further',\n",
       " 'then',\n",
       " 'once',\n",
       " 'here',\n",
       " 'there',\n",
       " 'when',\n",
       " 'where',\n",
       " 'why',\n",
       " 'how',\n",
       " 'all',\n",
       " 'any',\n",
       " 'both',\n",
       " 'each',\n",
       " 'few',\n",
       " 'more',\n",
       " 'most',\n",
       " 'other',\n",
       " 'some',\n",
       " 'such',\n",
       " 'no',\n",
       " 'nor',\n",
       " 'not',\n",
       " 'only',\n",
       " 'own',\n",
       " 'same',\n",
       " 'so',\n",
       " 'than',\n",
       " 'too',\n",
       " 'very',\n",
       " 's',\n",
       " 't',\n",
       " 'can',\n",
       " 'will',\n",
       " 'just',\n",
       " 'don',\n",
       " \"don't\",\n",
       " 'should',\n",
       " \"should've\",\n",
       " 'now',\n",
       " 'd',\n",
       " 'll',\n",
       " 'm',\n",
       " 'o',\n",
       " 're',\n",
       " 've',\n",
       " 'y',\n",
       " 'ain',\n",
       " 'aren',\n",
       " \"aren't\",\n",
       " 'couldn',\n",
       " \"couldn't\",\n",
       " 'didn',\n",
       " \"didn't\",\n",
       " 'doesn',\n",
       " \"doesn't\",\n",
       " 'hadn',\n",
       " \"hadn't\",\n",
       " 'hasn',\n",
       " \"hasn't\",\n",
       " 'haven',\n",
       " \"haven't\",\n",
       " 'isn',\n",
       " \"isn't\",\n",
       " 'ma',\n",
       " 'mightn',\n",
       " \"mightn't\",\n",
       " 'mustn',\n",
       " \"mustn't\",\n",
       " 'needn',\n",
       " \"needn't\",\n",
       " 'shan',\n",
       " \"shan't\",\n",
       " 'shouldn',\n",
       " \"shouldn't\",\n",
       " 'wasn',\n",
       " \"wasn't\",\n",
       " 'weren',\n",
       " \"weren't\",\n",
       " 'won',\n",
       " \"won't\",\n",
       " 'wouldn',\n",
       " \"wouldn't\"]"
      ]
     },
     "execution_count": 35,
     "metadata": {},
     "output_type": "execute_result"
    }
   ],
   "source": [
    "from nltk.corpus import stopwords\n",
    "stopwords.words('english')"
   ]
  },
  {
   "cell_type": "code",
   "execution_count": 36,
   "metadata": {},
   "outputs": [
    {
     "data": {
      "text/plain": [
       "'!\"#$%&\\'()*+,-./:;<=>?@[\\\\]^_`{|}~'"
      ]
     },
     "execution_count": 36,
     "metadata": {},
     "output_type": "execute_result"
    }
   ],
   "source": [
    "import string\n",
    "string.punctuation"
   ]
  },
  {
   "cell_type": "code",
   "execution_count": 37,
   "metadata": {},
   "outputs": [
    {
     "data": {
      "text/plain": [
       "'love'"
      ]
     },
     "execution_count": 37,
     "metadata": {},
     "output_type": "execute_result"
    }
   ],
   "source": [
    "from nltk.stem.porter import PorterStemmer\n",
    "ps = PorterStemmer()\n",
    "ps.stem('loving')"
   ]
  },
  {
   "cell_type": "code",
   "execution_count": 38,
   "metadata": {},
   "outputs": [],
   "source": [
    "def transform_text(text):\n",
    "    text = text.lower()                  # 1. lower case\n",
    "    text = nltk.word_tokenize(text)      # 2. Tokenize\n",
    "   \n",
    "    y = []\n",
    "    for i in text:\n",
    "        if i.isalnum():                  # 3. remove special characters\n",
    "            y.append(i)\n",
    "            \n",
    "    text = y[:]\n",
    "    y.clear()\n",
    "    \n",
    "    for i in text:\n",
    "        if i not in stopwords.words('english') and i not in string.punctuation: #  4. stopwords and punctuation\n",
    "            y.append(i)\n",
    "            \n",
    "    text = y[:]\n",
    "    y.clear()\n",
    "    \n",
    "    for i in text:\n",
    "        y.append(ps.stem(i)) # 5. Stemming\n",
    "    \n",
    "    \n",
    "    return \" \".join(y)"
   ]
  },
  {
   "cell_type": "code",
   "execution_count": 39,
   "metadata": {},
   "outputs": [
    {
     "data": {
      "text/plain": [
       "'hi'"
      ]
     },
     "execution_count": 39,
     "metadata": {},
     "output_type": "execute_result"
    }
   ],
   "source": [
    "transform_text('Hi How are you') # 1"
   ]
  },
  {
   "cell_type": "code",
   "execution_count": 40,
   "metadata": {},
   "outputs": [
    {
     "data": {
      "text/plain": [
       "'hi'"
      ]
     },
     "execution_count": 40,
     "metadata": {},
     "output_type": "execute_result"
    }
   ],
   "source": [
    "transform_text('Hi How are you') # 2"
   ]
  },
  {
   "cell_type": "code",
   "execution_count": 41,
   "metadata": {},
   "outputs": [
    {
     "data": {
      "text/plain": [
       "'hi'"
      ]
     },
     "execution_count": 41,
     "metadata": {},
     "output_type": "execute_result"
    }
   ],
   "source": [
    "transform_text('Hi How are %% you') # 3"
   ]
  },
  {
   "cell_type": "code",
   "execution_count": 42,
   "metadata": {},
   "outputs": [
    {
     "data": {
      "text/plain": [
       "'like present data scienc'"
      ]
     },
     "execution_count": 42,
     "metadata": {},
     "output_type": "execute_result"
    }
   ],
   "source": [
    "transform_text('Did you like my presentation on Data Science?') # 4"
   ]
  },
  {
   "cell_type": "code",
   "execution_count": 43,
   "metadata": {},
   "outputs": [
    {
     "data": {
      "text/plain": [
       "'love machin learn lectur youtub channel'"
      ]
     },
     "execution_count": 43,
     "metadata": {},
     "output_type": "execute_result"
    }
   ],
   "source": [
    "transform_text('I loved the machine learning lectures on youtube channel. How about you?') # 5"
   ]
  },
  {
   "cell_type": "code",
   "execution_count": 44,
   "metadata": {},
   "outputs": [
    {
     "data": {
      "text/html": [
       "<div>\n",
       "<style scoped>\n",
       "    .dataframe tbody tr th:only-of-type {\n",
       "        vertical-align: middle;\n",
       "    }\n",
       "\n",
       "    .dataframe tbody tr th {\n",
       "        vertical-align: top;\n",
       "    }\n",
       "\n",
       "    .dataframe thead th {\n",
       "        text-align: right;\n",
       "    }\n",
       "</style>\n",
       "<table border=\"1\" class=\"dataframe\">\n",
       "  <thead>\n",
       "    <tr style=\"text-align: right;\">\n",
       "      <th></th>\n",
       "      <th>tweets</th>\n",
       "      <th>target</th>\n",
       "      <th>num_of_characters</th>\n",
       "      <th>num_of_words</th>\n",
       "      <th>num_of_sentences</th>\n",
       "    </tr>\n",
       "  </thead>\n",
       "  <tbody>\n",
       "    <tr>\n",
       "      <th>0</th>\n",
       "      <td>Ekaterina Vinokourova  the only daughter of Ru...</td>\n",
       "      <td>1</td>\n",
       "      <td>303</td>\n",
       "      <td>46</td>\n",
       "      <td>1</td>\n",
       "    </tr>\n",
       "    <tr>\n",
       "      <th>1</th>\n",
       "      <td>eye do naught want two hear it  cyka blyat</td>\n",
       "      <td>1</td>\n",
       "      <td>42</td>\n",
       "      <td>9</td>\n",
       "      <td>1</td>\n",
       "    </tr>\n",
       "    <tr>\n",
       "      <th>2</th>\n",
       "      <td>eW fkgAM  GS xW  RWApodcast Cyka  Bro that s ...</td>\n",
       "      <td>1</td>\n",
       "      <td>221</td>\n",
       "      <td>41</td>\n",
       "      <td>1</td>\n",
       "    </tr>\n",
       "    <tr>\n",
       "      <th>3</th>\n",
       "      <td>Cryptic Cyka hmmmmmmmmm women hmmm</td>\n",
       "      <td>1</td>\n",
       "      <td>35</td>\n",
       "      <td>5</td>\n",
       "      <td>1</td>\n",
       "    </tr>\n",
       "    <tr>\n",
       "      <th>4</th>\n",
       "      <td>Cryptic Cyka that s a really good drawing man</td>\n",
       "      <td>1</td>\n",
       "      <td>46</td>\n",
       "      <td>9</td>\n",
       "      <td>1</td>\n",
       "    </tr>\n",
       "  </tbody>\n",
       "</table>\n",
       "</div>"
      ],
      "text/plain": [
       "                                              tweets  target  \\\n",
       "0  Ekaterina Vinokourova  the only daughter of Ru...       1   \n",
       "1         eye do naught want two hear it  cyka blyat       1   \n",
       "2   eW fkgAM  GS xW  RWApodcast Cyka  Bro that s ...       1   \n",
       "3                 Cryptic Cyka hmmmmmmmmm women hmmm       1   \n",
       "4      Cryptic Cyka that s a really good drawing man       1   \n",
       "\n",
       "   num_of_characters  num_of_words  num_of_sentences  \n",
       "0                303            46                 1  \n",
       "1                 42             9                 1  \n",
       "2                221            41                 1  \n",
       "3                 35             5                 1  \n",
       "4                 46             9                 1  "
      ]
     },
     "execution_count": 44,
     "metadata": {},
     "output_type": "execute_result"
    }
   ],
   "source": [
    "df.head()"
   ]
  },
  {
   "cell_type": "code",
   "execution_count": 45,
   "metadata": {},
   "outputs": [],
   "source": [
    "df['transformed_tweets'] = df['tweets'].apply(transform_text)"
   ]
  },
  {
   "cell_type": "code",
   "execution_count": 46,
   "metadata": {},
   "outputs": [
    {
     "data": {
      "text/html": [
       "<div>\n",
       "<style scoped>\n",
       "    .dataframe tbody tr th:only-of-type {\n",
       "        vertical-align: middle;\n",
       "    }\n",
       "\n",
       "    .dataframe tbody tr th {\n",
       "        vertical-align: top;\n",
       "    }\n",
       "\n",
       "    .dataframe thead th {\n",
       "        text-align: right;\n",
       "    }\n",
       "</style>\n",
       "<table border=\"1\" class=\"dataframe\">\n",
       "  <thead>\n",
       "    <tr style=\"text-align: right;\">\n",
       "      <th></th>\n",
       "      <th>tweets</th>\n",
       "      <th>target</th>\n",
       "      <th>num_of_characters</th>\n",
       "      <th>num_of_words</th>\n",
       "      <th>num_of_sentences</th>\n",
       "      <th>transformed_tweets</th>\n",
       "    </tr>\n",
       "  </thead>\n",
       "  <tbody>\n",
       "    <tr>\n",
       "      <th>0</th>\n",
       "      <td>Ekaterina Vinokourova  the only daughter of Ru...</td>\n",
       "      <td>1</td>\n",
       "      <td>303</td>\n",
       "      <td>46</td>\n",
       "      <td>1</td>\n",
       "      <td>ekaterina vinokourova daughter russian foreign...</td>\n",
       "    </tr>\n",
       "    <tr>\n",
       "      <th>1</th>\n",
       "      <td>eye do naught want two hear it  cyka blyat</td>\n",
       "      <td>1</td>\n",
       "      <td>42</td>\n",
       "      <td>9</td>\n",
       "      <td>1</td>\n",
       "      <td>eye naught want two hear cyka blyat</td>\n",
       "    </tr>\n",
       "    <tr>\n",
       "      <th>2</th>\n",
       "      <td>eW fkgAM  GS xW  RWApodcast Cyka  Bro that s ...</td>\n",
       "      <td>1</td>\n",
       "      <td>221</td>\n",
       "      <td>41</td>\n",
       "      <td>1</td>\n",
       "      <td>ew fkgam gs xw rwapodcast cyka bro supper offe...</td>\n",
       "    </tr>\n",
       "    <tr>\n",
       "      <th>3</th>\n",
       "      <td>Cryptic Cyka hmmmmmmmmm women hmmm</td>\n",
       "      <td>1</td>\n",
       "      <td>35</td>\n",
       "      <td>5</td>\n",
       "      <td>1</td>\n",
       "      <td>cryptic cyka hmmmmmmmmm women hmmm</td>\n",
       "    </tr>\n",
       "    <tr>\n",
       "      <th>4</th>\n",
       "      <td>Cryptic Cyka that s a really good drawing man</td>\n",
       "      <td>1</td>\n",
       "      <td>46</td>\n",
       "      <td>9</td>\n",
       "      <td>1</td>\n",
       "      <td>cryptic cyka realli good draw man</td>\n",
       "    </tr>\n",
       "  </tbody>\n",
       "</table>\n",
       "</div>"
      ],
      "text/plain": [
       "                                              tweets  target  \\\n",
       "0  Ekaterina Vinokourova  the only daughter of Ru...       1   \n",
       "1         eye do naught want two hear it  cyka blyat       1   \n",
       "2   eW fkgAM  GS xW  RWApodcast Cyka  Bro that s ...       1   \n",
       "3                 Cryptic Cyka hmmmmmmmmm women hmmm       1   \n",
       "4      Cryptic Cyka that s a really good drawing man       1   \n",
       "\n",
       "   num_of_characters  num_of_words  num_of_sentences  \\\n",
       "0                303            46                 1   \n",
       "1                 42             9                 1   \n",
       "2                221            41                 1   \n",
       "3                 35             5                 1   \n",
       "4                 46             9                 1   \n",
       "\n",
       "                                  transformed_tweets  \n",
       "0  ekaterina vinokourova daughter russian foreign...  \n",
       "1                eye naught want two hear cyka blyat  \n",
       "2  ew fkgam gs xw rwapodcast cyka bro supper offe...  \n",
       "3                 cryptic cyka hmmmmmmmmm women hmmm  \n",
       "4                  cryptic cyka realli good draw man  "
      ]
     },
     "execution_count": 46,
     "metadata": {},
     "output_type": "execute_result"
    }
   ],
   "source": [
    "df.head()"
   ]
  },
  {
   "cell_type": "code",
   "execution_count": 47,
   "metadata": {},
   "outputs": [
    {
     "data": {
      "text/plain": [
       "0     ekaterina vinokourova daughter russian foreign...\n",
       "1                   eye naught want two hear cyka blyat\n",
       "2     ew fkgam gs xw rwapodcast cyka bro supper offe...\n",
       "3                    cryptic cyka hmmmmmmmmm women hmmm\n",
       "4                     cryptic cyka realli good draw man\n",
       "5                                cryptic cyka know deal\n",
       "6     teacher didnt wipe sinc friday fridaynightfunk...\n",
       "7                                 aregularnam wait mean\n",
       "8                        thing id let http co gnzyv tcq\n",
       "9                                   cryptic cyka god lt\n",
       "10                                    yepyep cyka blyat\n",
       "11    nigellovesy soooo overr fuck noob game follow ...\n",
       "12    namastekikii liter mean bitch idiomat use stan...\n",
       "13                   cykaart niceee congrat cyka deserv\n",
       "14    tagaan kog chanc mag learn ug new languag pick...\n",
       "15    defenceu sad pathet putin need help china merc...\n",
       "16                       taliaa novaa cyka shut fuck nm\n",
       "17    mfa russia mfa ukrain rusembukrain osc rf osc ...\n",
       "18    un american lmao say fuck shit ass cyka blyat ...\n",
       "19    thank yuri teach russian phrase today learnt c...\n",
       "20                                           cyka blyat\n",
       "21             know russian cyka blyat http co tex mqmt\n",
       "22    marketrebel sooner later game server gon na fu...\n",
       "23    cyka blyattttt katiewonn hi friend name maxwar...\n",
       "24    rogozin profil pic budget photoshop caus head ...\n",
       "25    brokenboi get absolut fuck own stupid russian ...\n",
       "26                           barackobama eat cyka blyat\n",
       "27            ubercsgo timjdillon kiev fight cyka blyat\n",
       "28                       gg fuck shit game cyka toosefn\n",
       "29    elonmusk challeng cs go match could shout cyka...\n",
       "30                               cyka say cyka say like\n",
       "31    eigenrobot true even heartbreak ig gen z russi...\n",
       "32            tsybulskaliubov cyka blyat give sugar die\n",
       "Name: transformed_tweets, dtype: object"
      ]
     },
     "execution_count": 47,
     "metadata": {},
     "output_type": "execute_result"
    }
   ],
   "source": [
    "df[df['target'] == 1]['transformed_tweets']"
   ]
  },
  {
   "cell_type": "code",
   "execution_count": 48,
   "metadata": {},
   "outputs": [
    {
     "data": {
      "text/plain": [
       "33        144 therealmurban lunaoi vn anoth whitoid lmao\n",
       "34     145 marku redmenac lunaoi vn funni fanbas priv...\n",
       "35     146 srf j leav xtreme game http co ytzdli ii r...\n",
       "36     147 srf j leav xtreme game replac old eleven l...\n",
       "37     148 dpc cn pwrd dota underway betnow http co b...\n",
       "                             ...                        \n",
       "290                                        love thi game\n",
       "291                               game graphic eye catch\n",
       "292                              game level realli enjoy\n",
       "293                               good pixel beauti tool\n",
       "294                                 free come onlin play\n",
       "Name: transformed_tweets, Length: 256, dtype: object"
      ]
     },
     "execution_count": 48,
     "metadata": {},
     "output_type": "execute_result"
    }
   ],
   "source": [
    "df[df['target'] == 0]['transformed_tweets']"
   ]
  },
  {
   "cell_type": "code",
   "execution_count": 49,
   "metadata": {},
   "outputs": [],
   "source": [
    "# create a function to get subjectivity.\n",
    "def getSubjectivity(tweet):\n",
    "    return TextBlob(tweet).sentiment.subjectivity"
   ]
  },
  {
   "cell_type": "code",
   "execution_count": 50,
   "metadata": {},
   "outputs": [],
   "source": [
    "# create a function to get polarity.\n",
    "def getPolarity(tweet):\n",
    "    return TextBlob(tweet).sentiment.polarity"
   ]
  },
  {
   "cell_type": "code",
   "execution_count": 51,
   "metadata": {},
   "outputs": [
    {
     "name": "stdout",
     "output_type": "stream",
     "text": [
      "Sentiment(polarity=-0.5, subjectivity=1.0)\n",
      "Sentiment(polarity=0.5, subjectivity=0.6)\n"
     ]
    }
   ],
   "source": [
    "f1 = \"Not awesome\"\n",
    "f2 = \"I love this food .Awesome\"\n",
    "\n",
    "blob1 = TextBlob(f1) \n",
    "blob2 = TextBlob(f2) \n",
    "\n",
    "print(blob1.sentiment)\n",
    "print(blob2.sentiment)"
   ]
  },
  {
   "cell_type": "code",
   "execution_count": 52,
   "metadata": {},
   "outputs": [],
   "source": [
    "# # create two new columns.\n",
    "df['subjectivity'] = df['transformed_tweets'].apply(getSubjectivity)\n",
    "df['polarity'] = df['transformed_tweets'].apply(getPolarity)"
   ]
  },
  {
   "cell_type": "code",
   "execution_count": 53,
   "metadata": {},
   "outputs": [
    {
     "data": {
      "text/html": [
       "<div>\n",
       "<style scoped>\n",
       "    .dataframe tbody tr th:only-of-type {\n",
       "        vertical-align: middle;\n",
       "    }\n",
       "\n",
       "    .dataframe tbody tr th {\n",
       "        vertical-align: top;\n",
       "    }\n",
       "\n",
       "    .dataframe thead th {\n",
       "        text-align: right;\n",
       "    }\n",
       "</style>\n",
       "<table border=\"1\" class=\"dataframe\">\n",
       "  <thead>\n",
       "    <tr style=\"text-align: right;\">\n",
       "      <th></th>\n",
       "      <th>tweets</th>\n",
       "      <th>target</th>\n",
       "      <th>num_of_characters</th>\n",
       "      <th>num_of_words</th>\n",
       "      <th>num_of_sentences</th>\n",
       "      <th>transformed_tweets</th>\n",
       "      <th>subjectivity</th>\n",
       "      <th>polarity</th>\n",
       "    </tr>\n",
       "  </thead>\n",
       "  <tbody>\n",
       "    <tr>\n",
       "      <th>0</th>\n",
       "      <td>Ekaterina Vinokourova  the only daughter of Ru...</td>\n",
       "      <td>1</td>\n",
       "      <td>303</td>\n",
       "      <td>46</td>\n",
       "      <td>1</td>\n",
       "      <td>ekaterina vinokourova daughter russian foreign...</td>\n",
       "      <td>0.056250</td>\n",
       "      <td>-0.05625</td>\n",
       "    </tr>\n",
       "    <tr>\n",
       "      <th>1</th>\n",
       "      <td>eye do naught want two hear it  cyka blyat</td>\n",
       "      <td>1</td>\n",
       "      <td>42</td>\n",
       "      <td>9</td>\n",
       "      <td>1</td>\n",
       "      <td>eye naught want two hear cyka blyat</td>\n",
       "      <td>0.000000</td>\n",
       "      <td>0.00000</td>\n",
       "    </tr>\n",
       "    <tr>\n",
       "      <th>2</th>\n",
       "      <td>eW fkgAM  GS xW  RWApodcast Cyka  Bro that s ...</td>\n",
       "      <td>1</td>\n",
       "      <td>221</td>\n",
       "      <td>41</td>\n",
       "      <td>1</td>\n",
       "      <td>ew fkgam gs xw rwapodcast cyka bro supper offe...</td>\n",
       "      <td>0.523254</td>\n",
       "      <td>0.16881</td>\n",
       "    </tr>\n",
       "    <tr>\n",
       "      <th>3</th>\n",
       "      <td>Cryptic Cyka hmmmmmmmmm women hmmm</td>\n",
       "      <td>1</td>\n",
       "      <td>35</td>\n",
       "      <td>5</td>\n",
       "      <td>1</td>\n",
       "      <td>cryptic cyka hmmmmmmmmm women hmmm</td>\n",
       "      <td>0.000000</td>\n",
       "      <td>0.00000</td>\n",
       "    </tr>\n",
       "    <tr>\n",
       "      <th>4</th>\n",
       "      <td>Cryptic Cyka that s a really good drawing man</td>\n",
       "      <td>1</td>\n",
       "      <td>46</td>\n",
       "      <td>9</td>\n",
       "      <td>1</td>\n",
       "      <td>cryptic cyka realli good draw man</td>\n",
       "      <td>0.600000</td>\n",
       "      <td>0.70000</td>\n",
       "    </tr>\n",
       "  </tbody>\n",
       "</table>\n",
       "</div>"
      ],
      "text/plain": [
       "                                              tweets  target  \\\n",
       "0  Ekaterina Vinokourova  the only daughter of Ru...       1   \n",
       "1         eye do naught want two hear it  cyka blyat       1   \n",
       "2   eW fkgAM  GS xW  RWApodcast Cyka  Bro that s ...       1   \n",
       "3                 Cryptic Cyka hmmmmmmmmm women hmmm       1   \n",
       "4      Cryptic Cyka that s a really good drawing man       1   \n",
       "\n",
       "   num_of_characters  num_of_words  num_of_sentences  \\\n",
       "0                303            46                 1   \n",
       "1                 42             9                 1   \n",
       "2                221            41                 1   \n",
       "3                 35             5                 1   \n",
       "4                 46             9                 1   \n",
       "\n",
       "                                  transformed_tweets  subjectivity  polarity  \n",
       "0  ekaterina vinokourova daughter russian foreign...      0.056250  -0.05625  \n",
       "1                eye naught want two hear cyka blyat      0.000000   0.00000  \n",
       "2  ew fkgam gs xw rwapodcast cyka bro supper offe...      0.523254   0.16881  \n",
       "3                 cryptic cyka hmmmmmmmmm women hmmm      0.000000   0.00000  \n",
       "4                  cryptic cyka realli good draw man      0.600000   0.70000  "
      ]
     },
     "execution_count": 53,
     "metadata": {},
     "output_type": "execute_result"
    }
   ],
   "source": [
    "df.head()"
   ]
  },
  {
   "cell_type": "code",
   "execution_count": 54,
   "metadata": {},
   "outputs": [],
   "source": [
    "# create a function to compute the negative , neutral and positive tweet analysis.\n",
    "def getAnalysis(score):\n",
    "    if score < 0:\n",
    "        return 'negative'\n",
    "    elif score == 0:\n",
    "        return 'neutral'\n",
    "    else:\n",
    "        return 'positive'"
   ]
  },
  {
   "cell_type": "code",
   "execution_count": 55,
   "metadata": {},
   "outputs": [
    {
     "data": {
      "text/html": [
       "<div>\n",
       "<style scoped>\n",
       "    .dataframe tbody tr th:only-of-type {\n",
       "        vertical-align: middle;\n",
       "    }\n",
       "\n",
       "    .dataframe tbody tr th {\n",
       "        vertical-align: top;\n",
       "    }\n",
       "\n",
       "    .dataframe thead th {\n",
       "        text-align: right;\n",
       "    }\n",
       "</style>\n",
       "<table border=\"1\" class=\"dataframe\">\n",
       "  <thead>\n",
       "    <tr style=\"text-align: right;\">\n",
       "      <th></th>\n",
       "      <th>tweets</th>\n",
       "      <th>target</th>\n",
       "      <th>num_of_characters</th>\n",
       "      <th>num_of_words</th>\n",
       "      <th>num_of_sentences</th>\n",
       "      <th>transformed_tweets</th>\n",
       "      <th>subjectivity</th>\n",
       "      <th>polarity</th>\n",
       "      <th>analysis</th>\n",
       "    </tr>\n",
       "  </thead>\n",
       "  <tbody>\n",
       "    <tr>\n",
       "      <th>0</th>\n",
       "      <td>Ekaterina Vinokourova  the only daughter of Ru...</td>\n",
       "      <td>1</td>\n",
       "      <td>303</td>\n",
       "      <td>46</td>\n",
       "      <td>1</td>\n",
       "      <td>ekaterina vinokourova daughter russian foreign...</td>\n",
       "      <td>0.056250</td>\n",
       "      <td>-0.05625</td>\n",
       "      <td>negative</td>\n",
       "    </tr>\n",
       "    <tr>\n",
       "      <th>1</th>\n",
       "      <td>eye do naught want two hear it  cyka blyat</td>\n",
       "      <td>1</td>\n",
       "      <td>42</td>\n",
       "      <td>9</td>\n",
       "      <td>1</td>\n",
       "      <td>eye naught want two hear cyka blyat</td>\n",
       "      <td>0.000000</td>\n",
       "      <td>0.00000</td>\n",
       "      <td>neutral</td>\n",
       "    </tr>\n",
       "    <tr>\n",
       "      <th>2</th>\n",
       "      <td>eW fkgAM  GS xW  RWApodcast Cyka  Bro that s ...</td>\n",
       "      <td>1</td>\n",
       "      <td>221</td>\n",
       "      <td>41</td>\n",
       "      <td>1</td>\n",
       "      <td>ew fkgam gs xw rwapodcast cyka bro supper offe...</td>\n",
       "      <td>0.523254</td>\n",
       "      <td>0.16881</td>\n",
       "      <td>positive</td>\n",
       "    </tr>\n",
       "    <tr>\n",
       "      <th>3</th>\n",
       "      <td>Cryptic Cyka hmmmmmmmmm women hmmm</td>\n",
       "      <td>1</td>\n",
       "      <td>35</td>\n",
       "      <td>5</td>\n",
       "      <td>1</td>\n",
       "      <td>cryptic cyka hmmmmmmmmm women hmmm</td>\n",
       "      <td>0.000000</td>\n",
       "      <td>0.00000</td>\n",
       "      <td>neutral</td>\n",
       "    </tr>\n",
       "    <tr>\n",
       "      <th>4</th>\n",
       "      <td>Cryptic Cyka that s a really good drawing man</td>\n",
       "      <td>1</td>\n",
       "      <td>46</td>\n",
       "      <td>9</td>\n",
       "      <td>1</td>\n",
       "      <td>cryptic cyka realli good draw man</td>\n",
       "      <td>0.600000</td>\n",
       "      <td>0.70000</td>\n",
       "      <td>positive</td>\n",
       "    </tr>\n",
       "    <tr>\n",
       "      <th>5</th>\n",
       "      <td>Cryptic Cyka they knows her deal</td>\n",
       "      <td>1</td>\n",
       "      <td>33</td>\n",
       "      <td>6</td>\n",
       "      <td>1</td>\n",
       "      <td>cryptic cyka know deal</td>\n",
       "      <td>0.000000</td>\n",
       "      <td>0.00000</td>\n",
       "      <td>neutral</td>\n",
       "    </tr>\n",
       "    <tr>\n",
       "      <th>6</th>\n",
       "      <td>Teacher didnt wipe her off since friday  frida...</td>\n",
       "      <td>1</td>\n",
       "      <td>82</td>\n",
       "      <td>12</td>\n",
       "      <td>1</td>\n",
       "      <td>teacher didnt wipe sinc friday fridaynightfunk...</td>\n",
       "      <td>0.000000</td>\n",
       "      <td>0.00000</td>\n",
       "      <td>neutral</td>\n",
       "    </tr>\n",
       "    <tr>\n",
       "      <th>7</th>\n",
       "      <td>Aregularname Wait what does that mean</td>\n",
       "      <td>1</td>\n",
       "      <td>39</td>\n",
       "      <td>6</td>\n",
       "      <td>1</td>\n",
       "      <td>aregularnam wait mean</td>\n",
       "      <td>0.687500</td>\n",
       "      <td>-0.31250</td>\n",
       "      <td>negative</td>\n",
       "    </tr>\n",
       "    <tr>\n",
       "      <th>8</th>\n",
       "      <td>The things id let him do   https   t co gnZYv ...</td>\n",
       "      <td>1</td>\n",
       "      <td>50</td>\n",
       "      <td>11</td>\n",
       "      <td>1</td>\n",
       "      <td>thing id let http co gnzyv tcq</td>\n",
       "      <td>0.000000</td>\n",
       "      <td>0.00000</td>\n",
       "      <td>neutral</td>\n",
       "    </tr>\n",
       "    <tr>\n",
       "      <th>9</th>\n",
       "      <td>Cryptic Cyka on god  lt</td>\n",
       "      <td>1</td>\n",
       "      <td>26</td>\n",
       "      <td>5</td>\n",
       "      <td>1</td>\n",
       "      <td>cryptic cyka god lt</td>\n",
       "      <td>0.000000</td>\n",
       "      <td>0.00000</td>\n",
       "      <td>neutral</td>\n",
       "    </tr>\n",
       "  </tbody>\n",
       "</table>\n",
       "</div>"
      ],
      "text/plain": [
       "                                              tweets  target  \\\n",
       "0  Ekaterina Vinokourova  the only daughter of Ru...       1   \n",
       "1         eye do naught want two hear it  cyka blyat       1   \n",
       "2   eW fkgAM  GS xW  RWApodcast Cyka  Bro that s ...       1   \n",
       "3                 Cryptic Cyka hmmmmmmmmm women hmmm       1   \n",
       "4      Cryptic Cyka that s a really good drawing man       1   \n",
       "5                   Cryptic Cyka they knows her deal       1   \n",
       "6  Teacher didnt wipe her off since friday  frida...       1   \n",
       "7             Aregularname Wait what does that mean        1   \n",
       "8  The things id let him do   https   t co gnZYv ...       1   \n",
       "9                          Cryptic Cyka on god  lt         1   \n",
       "\n",
       "   num_of_characters  num_of_words  num_of_sentences  \\\n",
       "0                303            46                 1   \n",
       "1                 42             9                 1   \n",
       "2                221            41                 1   \n",
       "3                 35             5                 1   \n",
       "4                 46             9                 1   \n",
       "5                 33             6                 1   \n",
       "6                 82            12                 1   \n",
       "7                 39             6                 1   \n",
       "8                 50            11                 1   \n",
       "9                 26             5                 1   \n",
       "\n",
       "                                  transformed_tweets  subjectivity  polarity  \\\n",
       "0  ekaterina vinokourova daughter russian foreign...      0.056250  -0.05625   \n",
       "1                eye naught want two hear cyka blyat      0.000000   0.00000   \n",
       "2  ew fkgam gs xw rwapodcast cyka bro supper offe...      0.523254   0.16881   \n",
       "3                 cryptic cyka hmmmmmmmmm women hmmm      0.000000   0.00000   \n",
       "4                  cryptic cyka realli good draw man      0.600000   0.70000   \n",
       "5                             cryptic cyka know deal      0.000000   0.00000   \n",
       "6  teacher didnt wipe sinc friday fridaynightfunk...      0.000000   0.00000   \n",
       "7                              aregularnam wait mean      0.687500  -0.31250   \n",
       "8                     thing id let http co gnzyv tcq      0.000000   0.00000   \n",
       "9                                cryptic cyka god lt      0.000000   0.00000   \n",
       "\n",
       "   analysis  \n",
       "0  negative  \n",
       "1   neutral  \n",
       "2  positive  \n",
       "3   neutral  \n",
       "4  positive  \n",
       "5   neutral  \n",
       "6   neutral  \n",
       "7  negative  \n",
       "8   neutral  \n",
       "9   neutral  "
      ]
     },
     "execution_count": 55,
     "metadata": {},
     "output_type": "execute_result"
    }
   ],
   "source": [
    "# create a new column for tweet analysis.\n",
    "df['analysis'] = df['polarity'].apply(getAnalysis)\n",
    "df.head(10)"
   ]
  },
  {
   "cell_type": "code",
   "execution_count": 56,
   "metadata": {},
   "outputs": [],
   "source": [
    "spam_corpus = []\n",
    "for msg in df[df['target'] == 1]['transformed_tweets'].tolist():\n",
    "    for word in msg.split():\n",
    "        spam_corpus.append(word)"
   ]
  },
  {
   "cell_type": "code",
   "execution_count": 57,
   "metadata": {},
   "outputs": [
    {
     "data": {
      "text/plain": [
       "['ekaterina',\n",
       " 'vinokourova',\n",
       " 'daughter',\n",
       " 'russian',\n",
       " 'foreign',\n",
       " 'minist',\n",
       " 'sergei',\n",
       " 'lavrov',\n",
       " 'spent',\n",
       " 'year',\n",
       " 'u',\n",
       " 'studi',\n",
       " 'polit',\n",
       " 'scienc',\n",
       " 'columbia',\n",
       " 'univers',\n",
       " 'econom',\n",
       " 'london',\n",
       " 'school',\n",
       " 'econom',\n",
       " 'cyka',\n",
       " 'go',\n",
       " 'go',\n",
       " 'back',\n",
       " 'motherfuckingruissia',\n",
       " 'http',\n",
       " 'co',\n",
       " 'znkcrdqazz',\n",
       " 'eye',\n",
       " 'naught',\n",
       " 'want',\n",
       " 'two',\n",
       " 'hear',\n",
       " 'cyka',\n",
       " 'blyat',\n",
       " 'ew',\n",
       " 'fkgam',\n",
       " 'gs',\n",
       " 'xw',\n",
       " 'rwapodcast',\n",
       " 'cyka',\n",
       " 'bro',\n",
       " 'supper',\n",
       " 'offens',\n",
       " 'tell',\n",
       " 'also',\n",
       " 'call',\n",
       " 'bori',\n",
       " 'channel',\n",
       " 'ye',\n",
       " 'dab',\n",
       " 'hard',\n",
       " 'russian',\n",
       " 'bro',\n",
       " 'yeah',\n",
       " 'sure',\n",
       " 'also',\n",
       " 'dub',\n",
       " 'right',\n",
       " 'true',\n",
       " 'mememan',\n",
       " 'cryptic',\n",
       " 'cyka',\n",
       " 'hmmmmmmmmm',\n",
       " 'women',\n",
       " 'hmmm',\n",
       " 'cryptic',\n",
       " 'cyka',\n",
       " 'realli',\n",
       " 'good',\n",
       " 'draw',\n",
       " 'man',\n",
       " 'cryptic',\n",
       " 'cyka',\n",
       " 'know',\n",
       " 'deal',\n",
       " 'teacher',\n",
       " 'didnt',\n",
       " 'wipe',\n",
       " 'sinc',\n",
       " 'friday',\n",
       " 'fridaynightfunkin',\n",
       " 'http',\n",
       " 'co',\n",
       " 'eorhjtxhsi',\n",
       " 'aregularnam',\n",
       " 'wait',\n",
       " 'mean',\n",
       " 'thing',\n",
       " 'id',\n",
       " 'let',\n",
       " 'http',\n",
       " 'co',\n",
       " 'gnzyv',\n",
       " 'tcq',\n",
       " 'cryptic',\n",
       " 'cyka',\n",
       " 'god',\n",
       " 'lt',\n",
       " 'yepyep',\n",
       " 'cyka',\n",
       " 'blyat',\n",
       " 'nigellovesy',\n",
       " 'soooo',\n",
       " 'overr',\n",
       " 'fuck',\n",
       " 'noob',\n",
       " 'game',\n",
       " 'follow',\n",
       " 'cyka',\n",
       " 'blyat',\n",
       " 'namastekikii',\n",
       " 'liter',\n",
       " 'mean',\n",
       " 'bitch',\n",
       " 'idiomat',\n",
       " 'use',\n",
       " 'stand',\n",
       " 'sort',\n",
       " 'explet',\n",
       " 'use',\n",
       " 'english',\n",
       " 'googl',\n",
       " 'cyka',\n",
       " 'interest',\n",
       " 'cykaart',\n",
       " 'niceee',\n",
       " 'congrat',\n",
       " 'cyka',\n",
       " 'deserv',\n",
       " 'tagaan',\n",
       " 'kog',\n",
       " 'chanc',\n",
       " 'mag',\n",
       " 'learn',\n",
       " 'ug',\n",
       " 'new',\n",
       " 'languag',\n",
       " 'pick',\n",
       " 'german',\n",
       " 'russian',\n",
       " 'cyka',\n",
       " 'bahug',\n",
       " 'bylat',\n",
       " 'defenceu',\n",
       " 'sad',\n",
       " 'pathet',\n",
       " 'putin',\n",
       " 'need',\n",
       " 'help',\n",
       " 'china',\n",
       " 'mercenari',\n",
       " 'syria',\n",
       " 'attack',\n",
       " 'ukrain',\n",
       " 'littl',\n",
       " 'cyka',\n",
       " 'glori',\n",
       " 'ukrain',\n",
       " 'taliaa',\n",
       " 'novaa',\n",
       " 'cyka',\n",
       " 'shut',\n",
       " 'fuck',\n",
       " 'nm',\n",
       " 'mfa',\n",
       " 'russia',\n",
       " 'mfa',\n",
       " 'ukrain',\n",
       " 'rusembukrain',\n",
       " 'osc',\n",
       " 'rf',\n",
       " 'osc',\n",
       " 'russiaun',\n",
       " 'dpol',\n",
       " 'un',\n",
       " 'rusembusa',\n",
       " 'look',\n",
       " 'like',\n",
       " 'gentli',\n",
       " 'place',\n",
       " 'damag',\n",
       " 'ground',\n",
       " 'surround',\n",
       " 'area',\n",
       " 'cyka',\n",
       " 'nobodi',\n",
       " 'believ',\n",
       " 'un',\n",
       " 'american',\n",
       " 'lmao',\n",
       " 'say',\n",
       " 'fuck',\n",
       " 'shit',\n",
       " 'ass',\n",
       " 'cyka',\n",
       " 'blyat',\n",
       " 'bird',\n",
       " 'app',\n",
       " 'time',\n",
       " 'moreso',\n",
       " 'dont',\n",
       " 'trust',\n",
       " 'peopl',\n",
       " 'whose',\n",
       " 'first',\n",
       " 'instinct',\n",
       " 'see',\n",
       " 'someth',\n",
       " 'dislik',\n",
       " 'rage',\n",
       " 'work',\n",
       " 'class',\n",
       " 'need',\n",
       " 'leadership',\n",
       " 'take',\n",
       " 'sec',\n",
       " 'paus',\n",
       " 'think',\n",
       " 'move',\n",
       " 'advanc',\n",
       " 'thank',\n",
       " 'yuri',\n",
       " 'teach',\n",
       " 'russian',\n",
       " 'phrase',\n",
       " 'today',\n",
       " 'learnt',\n",
       " 'cyka',\n",
       " 'blyat',\n",
       " 'mean',\n",
       " 'friendship',\n",
       " 'cyka',\n",
       " 'blyat',\n",
       " 'know',\n",
       " 'russian',\n",
       " 'cyka',\n",
       " 'blyat',\n",
       " 'http',\n",
       " 'co',\n",
       " 'tex',\n",
       " 'mqmt',\n",
       " 'marketrebel',\n",
       " 'sooner',\n",
       " 'later',\n",
       " 'game',\n",
       " 'server',\n",
       " 'gon',\n",
       " 'na',\n",
       " 'full',\n",
       " 'kid',\n",
       " 'scream',\n",
       " 'cyka',\n",
       " 'blyat',\n",
       " 'cyka',\n",
       " 'blyattttt',\n",
       " 'katiewonn',\n",
       " 'hi',\n",
       " 'friend',\n",
       " 'name',\n",
       " 'maxward',\n",
       " 'year',\n",
       " 'realli',\n",
       " 'need',\n",
       " 'help',\n",
       " 'pleas',\n",
       " 'ignor',\n",
       " 'messag',\n",
       " 'pleas',\n",
       " 'enough',\n",
       " 'whatsapp',\n",
       " 'number',\n",
       " 'thank',\n",
       " 'rogozin',\n",
       " 'profil',\n",
       " 'pic',\n",
       " 'budget',\n",
       " 'photoshop',\n",
       " 'caus',\n",
       " 'head',\n",
       " 'way',\n",
       " 'big',\n",
       " 'fat',\n",
       " 'ass',\n",
       " 'photo',\n",
       " 'cyka',\n",
       " 'blyat',\n",
       " 'fake',\n",
       " 'brokenboi',\n",
       " 'get',\n",
       " 'absolut',\n",
       " 'fuck',\n",
       " 'own',\n",
       " 'stupid',\n",
       " 'russian',\n",
       " 'putin',\n",
       " 'support',\n",
       " 'nazi',\n",
       " 'cunt',\n",
       " 'post',\n",
       " 'peopl',\n",
       " 'block',\n",
       " 'look',\n",
       " 'decid',\n",
       " 'deactiv',\n",
       " 'cyka',\n",
       " 'blyat',\n",
       " 'fuck',\n",
       " 'melon',\n",
       " 'http',\n",
       " 'co',\n",
       " 'f',\n",
       " 'c',\n",
       " 'hywsyu',\n",
       " 'barackobama',\n",
       " 'eat',\n",
       " 'cyka',\n",
       " 'blyat',\n",
       " 'ubercsgo',\n",
       " 'timjdillon',\n",
       " 'kiev',\n",
       " 'fight',\n",
       " 'cyka',\n",
       " 'blyat',\n",
       " 'gg',\n",
       " 'fuck',\n",
       " 'shit',\n",
       " 'game',\n",
       " 'cyka',\n",
       " 'toosefn',\n",
       " 'elonmusk',\n",
       " 'challeng',\n",
       " 'cs',\n",
       " 'go',\n",
       " 'match',\n",
       " 'could',\n",
       " 'shout',\n",
       " 'cyka',\n",
       " 'blyat',\n",
       " 'teabag',\n",
       " 'corps',\n",
       " 'cyka',\n",
       " 'say',\n",
       " 'cyka',\n",
       " 'say',\n",
       " 'like',\n",
       " 'eigenrobot',\n",
       " 'true',\n",
       " 'even',\n",
       " 'heartbreak',\n",
       " 'ig',\n",
       " 'gen',\n",
       " 'z',\n",
       " 'russian',\n",
       " 'front',\n",
       " 'line',\n",
       " 'go',\n",
       " 'cyka',\n",
       " 'blyat',\n",
       " 'line',\n",
       " 'surli',\n",
       " 'mercenari',\n",
       " 'prod',\n",
       " 'forward',\n",
       " 'els',\n",
       " 'make',\n",
       " 'even',\n",
       " 'upset',\n",
       " 'putin',\n",
       " 'forc',\n",
       " 'hurt',\n",
       " 'everybodi',\n",
       " 'tsybulskaliubov',\n",
       " 'cyka',\n",
       " 'blyat',\n",
       " 'give',\n",
       " 'sugar',\n",
       " 'die']"
      ]
     },
     "execution_count": 57,
     "metadata": {},
     "output_type": "execute_result"
    }
   ],
   "source": [
    "spam_corpus"
   ]
  },
  {
   "cell_type": "code",
   "execution_count": 58,
   "metadata": {},
   "outputs": [
    {
     "data": {
      "text/plain": [
       "Counter({'ekaterina': 1,\n",
       "         'vinokourova': 1,\n",
       "         'daughter': 1,\n",
       "         'russian': 7,\n",
       "         'foreign': 1,\n",
       "         'minist': 1,\n",
       "         'sergei': 1,\n",
       "         'lavrov': 1,\n",
       "         'spent': 1,\n",
       "         'year': 2,\n",
       "         'u': 1,\n",
       "         'studi': 1,\n",
       "         'polit': 1,\n",
       "         'scienc': 1,\n",
       "         'columbia': 1,\n",
       "         'univers': 1,\n",
       "         'econom': 2,\n",
       "         'london': 1,\n",
       "         'school': 1,\n",
       "         'cyka': 31,\n",
       "         'go': 4,\n",
       "         'back': 1,\n",
       "         'motherfuckingruissia': 1,\n",
       "         'http': 5,\n",
       "         'co': 5,\n",
       "         'znkcrdqazz': 1,\n",
       "         'eye': 1,\n",
       "         'naught': 1,\n",
       "         'want': 1,\n",
       "         'two': 1,\n",
       "         'hear': 1,\n",
       "         'blyat': 15,\n",
       "         'ew': 1,\n",
       "         'fkgam': 1,\n",
       "         'gs': 1,\n",
       "         'xw': 1,\n",
       "         'rwapodcast': 1,\n",
       "         'bro': 2,\n",
       "         'supper': 1,\n",
       "         'offens': 1,\n",
       "         'tell': 1,\n",
       "         'also': 2,\n",
       "         'call': 1,\n",
       "         'bori': 1,\n",
       "         'channel': 1,\n",
       "         'ye': 1,\n",
       "         'dab': 1,\n",
       "         'hard': 1,\n",
       "         'yeah': 1,\n",
       "         'sure': 1,\n",
       "         'dub': 1,\n",
       "         'right': 1,\n",
       "         'true': 2,\n",
       "         'mememan': 1,\n",
       "         'cryptic': 4,\n",
       "         'hmmmmmmmmm': 1,\n",
       "         'women': 1,\n",
       "         'hmmm': 1,\n",
       "         'realli': 2,\n",
       "         'good': 1,\n",
       "         'draw': 1,\n",
       "         'man': 1,\n",
       "         'know': 2,\n",
       "         'deal': 1,\n",
       "         'teacher': 1,\n",
       "         'didnt': 1,\n",
       "         'wipe': 1,\n",
       "         'sinc': 1,\n",
       "         'friday': 1,\n",
       "         'fridaynightfunkin': 1,\n",
       "         'eorhjtxhsi': 1,\n",
       "         'aregularnam': 1,\n",
       "         'wait': 1,\n",
       "         'mean': 3,\n",
       "         'thing': 1,\n",
       "         'id': 1,\n",
       "         'let': 1,\n",
       "         'gnzyv': 1,\n",
       "         'tcq': 1,\n",
       "         'god': 1,\n",
       "         'lt': 1,\n",
       "         'yepyep': 1,\n",
       "         'nigellovesy': 1,\n",
       "         'soooo': 1,\n",
       "         'overr': 1,\n",
       "         'fuck': 6,\n",
       "         'noob': 1,\n",
       "         'game': 3,\n",
       "         'follow': 1,\n",
       "         'namastekikii': 1,\n",
       "         'liter': 1,\n",
       "         'bitch': 1,\n",
       "         'idiomat': 1,\n",
       "         'use': 2,\n",
       "         'stand': 1,\n",
       "         'sort': 1,\n",
       "         'explet': 1,\n",
       "         'english': 1,\n",
       "         'googl': 1,\n",
       "         'interest': 1,\n",
       "         'cykaart': 1,\n",
       "         'niceee': 1,\n",
       "         'congrat': 1,\n",
       "         'deserv': 1,\n",
       "         'tagaan': 1,\n",
       "         'kog': 1,\n",
       "         'chanc': 1,\n",
       "         'mag': 1,\n",
       "         'learn': 1,\n",
       "         'ug': 1,\n",
       "         'new': 1,\n",
       "         'languag': 1,\n",
       "         'pick': 1,\n",
       "         'german': 1,\n",
       "         'bahug': 1,\n",
       "         'bylat': 1,\n",
       "         'defenceu': 1,\n",
       "         'sad': 1,\n",
       "         'pathet': 1,\n",
       "         'putin': 3,\n",
       "         'need': 3,\n",
       "         'help': 2,\n",
       "         'china': 1,\n",
       "         'mercenari': 2,\n",
       "         'syria': 1,\n",
       "         'attack': 1,\n",
       "         'ukrain': 3,\n",
       "         'littl': 1,\n",
       "         'glori': 1,\n",
       "         'taliaa': 1,\n",
       "         'novaa': 1,\n",
       "         'shut': 1,\n",
       "         'nm': 1,\n",
       "         'mfa': 2,\n",
       "         'russia': 1,\n",
       "         'rusembukrain': 1,\n",
       "         'osc': 2,\n",
       "         'rf': 1,\n",
       "         'russiaun': 1,\n",
       "         'dpol': 1,\n",
       "         'un': 2,\n",
       "         'rusembusa': 1,\n",
       "         'look': 2,\n",
       "         'like': 2,\n",
       "         'gentli': 1,\n",
       "         'place': 1,\n",
       "         'damag': 1,\n",
       "         'ground': 1,\n",
       "         'surround': 1,\n",
       "         'area': 1,\n",
       "         'nobodi': 1,\n",
       "         'believ': 1,\n",
       "         'american': 1,\n",
       "         'lmao': 1,\n",
       "         'say': 3,\n",
       "         'shit': 2,\n",
       "         'ass': 2,\n",
       "         'bird': 1,\n",
       "         'app': 1,\n",
       "         'time': 1,\n",
       "         'moreso': 1,\n",
       "         'dont': 1,\n",
       "         'trust': 1,\n",
       "         'peopl': 2,\n",
       "         'whose': 1,\n",
       "         'first': 1,\n",
       "         'instinct': 1,\n",
       "         'see': 1,\n",
       "         'someth': 1,\n",
       "         'dislik': 1,\n",
       "         'rage': 1,\n",
       "         'work': 1,\n",
       "         'class': 1,\n",
       "         'leadership': 1,\n",
       "         'take': 1,\n",
       "         'sec': 1,\n",
       "         'paus': 1,\n",
       "         'think': 1,\n",
       "         'move': 1,\n",
       "         'advanc': 1,\n",
       "         'thank': 2,\n",
       "         'yuri': 1,\n",
       "         'teach': 1,\n",
       "         'phrase': 1,\n",
       "         'today': 1,\n",
       "         'learnt': 1,\n",
       "         'friendship': 1,\n",
       "         'tex': 1,\n",
       "         'mqmt': 1,\n",
       "         'marketrebel': 1,\n",
       "         'sooner': 1,\n",
       "         'later': 1,\n",
       "         'server': 1,\n",
       "         'gon': 1,\n",
       "         'na': 1,\n",
       "         'full': 1,\n",
       "         'kid': 1,\n",
       "         'scream': 1,\n",
       "         'blyattttt': 1,\n",
       "         'katiewonn': 1,\n",
       "         'hi': 1,\n",
       "         'friend': 1,\n",
       "         'name': 1,\n",
       "         'maxward': 1,\n",
       "         'pleas': 2,\n",
       "         'ignor': 1,\n",
       "         'messag': 1,\n",
       "         'enough': 1,\n",
       "         'whatsapp': 1,\n",
       "         'number': 1,\n",
       "         'rogozin': 1,\n",
       "         'profil': 1,\n",
       "         'pic': 1,\n",
       "         'budget': 1,\n",
       "         'photoshop': 1,\n",
       "         'caus': 1,\n",
       "         'head': 1,\n",
       "         'way': 1,\n",
       "         'big': 1,\n",
       "         'fat': 1,\n",
       "         'photo': 1,\n",
       "         'fake': 1,\n",
       "         'brokenboi': 1,\n",
       "         'get': 1,\n",
       "         'absolut': 1,\n",
       "         'own': 1,\n",
       "         'stupid': 1,\n",
       "         'support': 1,\n",
       "         'nazi': 1,\n",
       "         'cunt': 1,\n",
       "         'post': 1,\n",
       "         'block': 1,\n",
       "         'decid': 1,\n",
       "         'deactiv': 1,\n",
       "         'melon': 1,\n",
       "         'f': 1,\n",
       "         'c': 1,\n",
       "         'hywsyu': 1,\n",
       "         'barackobama': 1,\n",
       "         'eat': 1,\n",
       "         'ubercsgo': 1,\n",
       "         'timjdillon': 1,\n",
       "         'kiev': 1,\n",
       "         'fight': 1,\n",
       "         'gg': 1,\n",
       "         'toosefn': 1,\n",
       "         'elonmusk': 1,\n",
       "         'challeng': 1,\n",
       "         'cs': 1,\n",
       "         'match': 1,\n",
       "         'could': 1,\n",
       "         'shout': 1,\n",
       "         'teabag': 1,\n",
       "         'corps': 1,\n",
       "         'eigenrobot': 1,\n",
       "         'even': 2,\n",
       "         'heartbreak': 1,\n",
       "         'ig': 1,\n",
       "         'gen': 1,\n",
       "         'z': 1,\n",
       "         'front': 1,\n",
       "         'line': 2,\n",
       "         'surli': 1,\n",
       "         'prod': 1,\n",
       "         'forward': 1,\n",
       "         'els': 1,\n",
       "         'make': 1,\n",
       "         'upset': 1,\n",
       "         'forc': 1,\n",
       "         'hurt': 1,\n",
       "         'everybodi': 1,\n",
       "         'tsybulskaliubov': 1,\n",
       "         'give': 1,\n",
       "         'sugar': 1,\n",
       "         'die': 1})"
      ]
     },
     "execution_count": 58,
     "metadata": {},
     "output_type": "execute_result"
    }
   ],
   "source": [
    "from collections import Counter\n",
    "Counter(spam_corpus)"
   ]
  },
  {
   "cell_type": "code",
   "execution_count": 59,
   "metadata": {},
   "outputs": [
    {
     "data": {
      "text/html": [
       "<div>\n",
       "<style scoped>\n",
       "    .dataframe tbody tr th:only-of-type {\n",
       "        vertical-align: middle;\n",
       "    }\n",
       "\n",
       "    .dataframe tbody tr th {\n",
       "        vertical-align: top;\n",
       "    }\n",
       "\n",
       "    .dataframe thead th {\n",
       "        text-align: right;\n",
       "    }\n",
       "</style>\n",
       "<table border=\"1\" class=\"dataframe\">\n",
       "  <thead>\n",
       "    <tr style=\"text-align: right;\">\n",
       "      <th></th>\n",
       "      <th>0</th>\n",
       "      <th>1</th>\n",
       "    </tr>\n",
       "  </thead>\n",
       "  <tbody>\n",
       "    <tr>\n",
       "      <th>0</th>\n",
       "      <td>cyka</td>\n",
       "      <td>31</td>\n",
       "    </tr>\n",
       "    <tr>\n",
       "      <th>1</th>\n",
       "      <td>blyat</td>\n",
       "      <td>15</td>\n",
       "    </tr>\n",
       "    <tr>\n",
       "      <th>2</th>\n",
       "      <td>russian</td>\n",
       "      <td>7</td>\n",
       "    </tr>\n",
       "    <tr>\n",
       "      <th>3</th>\n",
       "      <td>fuck</td>\n",
       "      <td>6</td>\n",
       "    </tr>\n",
       "    <tr>\n",
       "      <th>4</th>\n",
       "      <td>http</td>\n",
       "      <td>5</td>\n",
       "    </tr>\n",
       "    <tr>\n",
       "      <th>5</th>\n",
       "      <td>co</td>\n",
       "      <td>5</td>\n",
       "    </tr>\n",
       "    <tr>\n",
       "      <th>6</th>\n",
       "      <td>go</td>\n",
       "      <td>4</td>\n",
       "    </tr>\n",
       "    <tr>\n",
       "      <th>7</th>\n",
       "      <td>cryptic</td>\n",
       "      <td>4</td>\n",
       "    </tr>\n",
       "    <tr>\n",
       "      <th>8</th>\n",
       "      <td>mean</td>\n",
       "      <td>3</td>\n",
       "    </tr>\n",
       "    <tr>\n",
       "      <th>9</th>\n",
       "      <td>game</td>\n",
       "      <td>3</td>\n",
       "    </tr>\n",
       "    <tr>\n",
       "      <th>10</th>\n",
       "      <td>putin</td>\n",
       "      <td>3</td>\n",
       "    </tr>\n",
       "    <tr>\n",
       "      <th>11</th>\n",
       "      <td>need</td>\n",
       "      <td>3</td>\n",
       "    </tr>\n",
       "    <tr>\n",
       "      <th>12</th>\n",
       "      <td>ukrain</td>\n",
       "      <td>3</td>\n",
       "    </tr>\n",
       "    <tr>\n",
       "      <th>13</th>\n",
       "      <td>say</td>\n",
       "      <td>3</td>\n",
       "    </tr>\n",
       "    <tr>\n",
       "      <th>14</th>\n",
       "      <td>year</td>\n",
       "      <td>2</td>\n",
       "    </tr>\n",
       "    <tr>\n",
       "      <th>15</th>\n",
       "      <td>econom</td>\n",
       "      <td>2</td>\n",
       "    </tr>\n",
       "    <tr>\n",
       "      <th>16</th>\n",
       "      <td>bro</td>\n",
       "      <td>2</td>\n",
       "    </tr>\n",
       "    <tr>\n",
       "      <th>17</th>\n",
       "      <td>also</td>\n",
       "      <td>2</td>\n",
       "    </tr>\n",
       "    <tr>\n",
       "      <th>18</th>\n",
       "      <td>true</td>\n",
       "      <td>2</td>\n",
       "    </tr>\n",
       "    <tr>\n",
       "      <th>19</th>\n",
       "      <td>realli</td>\n",
       "      <td>2</td>\n",
       "    </tr>\n",
       "    <tr>\n",
       "      <th>20</th>\n",
       "      <td>know</td>\n",
       "      <td>2</td>\n",
       "    </tr>\n",
       "    <tr>\n",
       "      <th>21</th>\n",
       "      <td>use</td>\n",
       "      <td>2</td>\n",
       "    </tr>\n",
       "    <tr>\n",
       "      <th>22</th>\n",
       "      <td>help</td>\n",
       "      <td>2</td>\n",
       "    </tr>\n",
       "    <tr>\n",
       "      <th>23</th>\n",
       "      <td>mercenari</td>\n",
       "      <td>2</td>\n",
       "    </tr>\n",
       "    <tr>\n",
       "      <th>24</th>\n",
       "      <td>mfa</td>\n",
       "      <td>2</td>\n",
       "    </tr>\n",
       "    <tr>\n",
       "      <th>25</th>\n",
       "      <td>osc</td>\n",
       "      <td>2</td>\n",
       "    </tr>\n",
       "    <tr>\n",
       "      <th>26</th>\n",
       "      <td>un</td>\n",
       "      <td>2</td>\n",
       "    </tr>\n",
       "    <tr>\n",
       "      <th>27</th>\n",
       "      <td>look</td>\n",
       "      <td>2</td>\n",
       "    </tr>\n",
       "    <tr>\n",
       "      <th>28</th>\n",
       "      <td>like</td>\n",
       "      <td>2</td>\n",
       "    </tr>\n",
       "    <tr>\n",
       "      <th>29</th>\n",
       "      <td>shit</td>\n",
       "      <td>2</td>\n",
       "    </tr>\n",
       "  </tbody>\n",
       "</table>\n",
       "</div>"
      ],
      "text/plain": [
       "            0   1\n",
       "0        cyka  31\n",
       "1       blyat  15\n",
       "2     russian   7\n",
       "3        fuck   6\n",
       "4        http   5\n",
       "5          co   5\n",
       "6          go   4\n",
       "7     cryptic   4\n",
       "8        mean   3\n",
       "9        game   3\n",
       "10      putin   3\n",
       "11       need   3\n",
       "12     ukrain   3\n",
       "13        say   3\n",
       "14       year   2\n",
       "15     econom   2\n",
       "16        bro   2\n",
       "17       also   2\n",
       "18       true   2\n",
       "19     realli   2\n",
       "20       know   2\n",
       "21        use   2\n",
       "22       help   2\n",
       "23  mercenari   2\n",
       "24        mfa   2\n",
       "25        osc   2\n",
       "26         un   2\n",
       "27       look   2\n",
       "28       like   2\n",
       "29       shit   2"
      ]
     },
     "execution_count": 59,
     "metadata": {},
     "output_type": "execute_result"
    }
   ],
   "source": [
    "pd.DataFrame(Counter(spam_corpus).most_common(30))"
   ]
  },
  {
   "cell_type": "code",
   "execution_count": 60,
   "metadata": {},
   "outputs": [
    {
     "name": "stderr",
     "output_type": "stream",
     "text": [
      "C:\\Users\\Chacha Tech\\anaconda3\\lib\\site-packages\\seaborn\\_decorators.py:36: FutureWarning: Pass the following variables as keyword args: x, y. From version 0.12, the only valid positional argument will be `data`, and passing other arguments without an explicit keyword will result in an error or misinterpretation.\n",
      "  warnings.warn(\n"
     ]
    },
    {
     "data": {
      "image/png": "[encoded data removed]",
      "text/plain": [
       "<Figure size 864x432 with 1 Axes>"
      ]
     },
     "metadata": {
      "needs_background": "light"
     },
     "output_type": "display_data"
    }
   ],
   "source": [
    "plt.figure(figsize=(12,6))\n",
    "sns.barplot(pd.DataFrame(Counter(spam_corpus).most_common(30))[0], pd.DataFrame(Counter(spam_corpus).most_common(30))[1])\n",
    "plt.xlabel('Most Frequent Words')\n",
    "plt.ylabel('Count')\n",
    "plt.xticks(rotation='vertical')\n",
    "plt.show()"
   ]
  },
  {
   "cell_type": "code",
   "execution_count": 61,
   "metadata": {},
   "outputs": [],
   "source": [
    "sentences = df['transformed_tweets'].tolist()"
   ]
  },
  {
   "cell_type": "code",
   "execution_count": 62,
   "metadata": {},
   "outputs": [
    {
     "data": {
      "text/plain": [
       "289"
      ]
     },
     "execution_count": 62,
     "metadata": {},
     "output_type": "execute_result"
    }
   ],
   "source": [
    "len(sentences)"
   ]
  },
  {
   "cell_type": "code",
   "execution_count": 63,
   "metadata": {},
   "outputs": [],
   "source": [
    "sentences_as_one_string = \" \".join(sentences)"
   ]
  },
  {
   "cell_type": "code",
   "execution_count": 64,
   "metadata": {},
   "outputs": [
    {
     "data": {
      "text/plain": [
       "<matplotlib.image.AxesImage at 0x12f645cf1f0>"
      ]
     },
     "execution_count": 64,
     "metadata": {},
     "output_type": "execute_result"
    },
    {
     "data": {
      "image/png": "[encoded data removed]",
      "text/plain": [
       "<Figure size 1440x1440 with 1 Axes>"
      ]
     },
     "metadata": {
      "needs_background": "light"
     },
     "output_type": "display_data"
    }
   ],
   "source": [
    "plt.figure(figsize = (20, 20))\n",
    "plt.imshow(WordCloud().generate(sentences_as_one_string))"
   ]
  },
  {
   "cell_type": "code",
   "execution_count": 65,
   "metadata": {
    "scrolled": true
   },
   "outputs": [
    {
     "data": {
      "image/png": "[encoded data removed]",
      "text/plain": [
       "<Figure size 720x288 with 1 Axes>"
      ]
     },
     "metadata": {
      "needs_background": "light"
     },
     "output_type": "display_data"
    }
   ],
   "source": [
    "# visualize the value counts.\n",
    "plt.figure(figsize=(10,4))\n",
    "df['analysis'].value_counts().plot(kind='bar')\n",
    "plt.xlabel('sentiment')\n",
    "plt.ylabel('count')\n",
    "plt.title('Sentiment Analysis')\n",
    "plt.show()"
   ]
  },
  {
   "cell_type": "code",
   "execution_count": 66,
   "metadata": {},
   "outputs": [],
   "source": [
    "df['new_target'] = df['transformed_tweets'].apply(lambda x: 1 if 'cyka' in x or 'blyat' in x or 'fuck' in x else 0)"
   ]
  },
  {
   "cell_type": "code",
   "execution_count": 67,
   "metadata": {},
   "outputs": [
    {
     "data": {
      "text/html": [
       "<div>\n",
       "<style scoped>\n",
       "    .dataframe tbody tr th:only-of-type {\n",
       "        vertical-align: middle;\n",
       "    }\n",
       "\n",
       "    .dataframe tbody tr th {\n",
       "        vertical-align: top;\n",
       "    }\n",
       "\n",
       "    .dataframe thead th {\n",
       "        text-align: right;\n",
       "    }\n",
       "</style>\n",
       "<table border=\"1\" class=\"dataframe\">\n",
       "  <thead>\n",
       "    <tr style=\"text-align: right;\">\n",
       "      <th></th>\n",
       "      <th>tweets</th>\n",
       "      <th>target</th>\n",
       "      <th>num_of_characters</th>\n",
       "      <th>num_of_words</th>\n",
       "      <th>num_of_sentences</th>\n",
       "      <th>transformed_tweets</th>\n",
       "      <th>subjectivity</th>\n",
       "      <th>polarity</th>\n",
       "      <th>analysis</th>\n",
       "      <th>new_target</th>\n",
       "    </tr>\n",
       "  </thead>\n",
       "  <tbody>\n",
       "    <tr>\n",
       "      <th>0</th>\n",
       "      <td>Ekaterina Vinokourova  the only daughter of Ru...</td>\n",
       "      <td>1</td>\n",
       "      <td>303</td>\n",
       "      <td>46</td>\n",
       "      <td>1</td>\n",
       "      <td>ekaterina vinokourova daughter russian foreign...</td>\n",
       "      <td>0.056250</td>\n",
       "      <td>-0.05625</td>\n",
       "      <td>negative</td>\n",
       "      <td>1</td>\n",
       "    </tr>\n",
       "    <tr>\n",
       "      <th>1</th>\n",
       "      <td>eye do naught want two hear it  cyka blyat</td>\n",
       "      <td>1</td>\n",
       "      <td>42</td>\n",
       "      <td>9</td>\n",
       "      <td>1</td>\n",
       "      <td>eye naught want two hear cyka blyat</td>\n",
       "      <td>0.000000</td>\n",
       "      <td>0.00000</td>\n",
       "      <td>neutral</td>\n",
       "      <td>1</td>\n",
       "    </tr>\n",
       "    <tr>\n",
       "      <th>2</th>\n",
       "      <td>eW fkgAM  GS xW  RWApodcast Cyka  Bro that s ...</td>\n",
       "      <td>1</td>\n",
       "      <td>221</td>\n",
       "      <td>41</td>\n",
       "      <td>1</td>\n",
       "      <td>ew fkgam gs xw rwapodcast cyka bro supper offe...</td>\n",
       "      <td>0.523254</td>\n",
       "      <td>0.16881</td>\n",
       "      <td>positive</td>\n",
       "      <td>1</td>\n",
       "    </tr>\n",
       "    <tr>\n",
       "      <th>3</th>\n",
       "      <td>Cryptic Cyka hmmmmmmmmm women hmmm</td>\n",
       "      <td>1</td>\n",
       "      <td>35</td>\n",
       "      <td>5</td>\n",
       "      <td>1</td>\n",
       "      <td>cryptic cyka hmmmmmmmmm women hmmm</td>\n",
       "      <td>0.000000</td>\n",
       "      <td>0.00000</td>\n",
       "      <td>neutral</td>\n",
       "      <td>1</td>\n",
       "    </tr>\n",
       "    <tr>\n",
       "      <th>4</th>\n",
       "      <td>Cryptic Cyka that s a really good drawing man</td>\n",
       "      <td>1</td>\n",
       "      <td>46</td>\n",
       "      <td>9</td>\n",
       "      <td>1</td>\n",
       "      <td>cryptic cyka realli good draw man</td>\n",
       "      <td>0.600000</td>\n",
       "      <td>0.70000</td>\n",
       "      <td>positive</td>\n",
       "      <td>1</td>\n",
       "    </tr>\n",
       "  </tbody>\n",
       "</table>\n",
       "</div>"
      ],
      "text/plain": [
       "                                              tweets  target  \\\n",
       "0  Ekaterina Vinokourova  the only daughter of Ru...       1   \n",
       "1         eye do naught want two hear it  cyka blyat       1   \n",
       "2   eW fkgAM  GS xW  RWApodcast Cyka  Bro that s ...       1   \n",
       "3                 Cryptic Cyka hmmmmmmmmm women hmmm       1   \n",
       "4      Cryptic Cyka that s a really good drawing man       1   \n",
       "\n",
       "   num_of_characters  num_of_words  num_of_sentences  \\\n",
       "0                303            46                 1   \n",
       "1                 42             9                 1   \n",
       "2                221            41                 1   \n",
       "3                 35             5                 1   \n",
       "4                 46             9                 1   \n",
       "\n",
       "                                  transformed_tweets  subjectivity  polarity  \\\n",
       "0  ekaterina vinokourova daughter russian foreign...      0.056250  -0.05625   \n",
       "1                eye naught want two hear cyka blyat      0.000000   0.00000   \n",
       "2  ew fkgam gs xw rwapodcast cyka bro supper offe...      0.523254   0.16881   \n",
       "3                 cryptic cyka hmmmmmmmmm women hmmm      0.000000   0.00000   \n",
       "4                  cryptic cyka realli good draw man      0.600000   0.70000   \n",
       "\n",
       "   analysis  new_target  \n",
       "0  negative           1  \n",
       "1   neutral           1  \n",
       "2  positive           1  \n",
       "3   neutral           1  \n",
       "4  positive           1  "
      ]
     },
     "execution_count": 67,
     "metadata": {},
     "output_type": "execute_result"
    }
   ],
   "source": [
    "df.head()"
   ]
  },
  {
   "cell_type": "code",
   "execution_count": 68,
   "metadata": {},
   "outputs": [
    {
     "data": {
      "text/html": [
       "<div>\n",
       "<style scoped>\n",
       "    .dataframe tbody tr th:only-of-type {\n",
       "        vertical-align: middle;\n",
       "    }\n",
       "\n",
       "    .dataframe tbody tr th {\n",
       "        vertical-align: top;\n",
       "    }\n",
       "\n",
       "    .dataframe thead th {\n",
       "        text-align: right;\n",
       "    }\n",
       "</style>\n",
       "<table border=\"1\" class=\"dataframe\">\n",
       "  <thead>\n",
       "    <tr style=\"text-align: right;\">\n",
       "      <th></th>\n",
       "      <th>tweets</th>\n",
       "      <th>target</th>\n",
       "      <th>num_of_characters</th>\n",
       "      <th>num_of_words</th>\n",
       "      <th>num_of_sentences</th>\n",
       "      <th>transformed_tweets</th>\n",
       "      <th>subjectivity</th>\n",
       "      <th>polarity</th>\n",
       "      <th>analysis</th>\n",
       "      <th>new_target</th>\n",
       "    </tr>\n",
       "  </thead>\n",
       "  <tbody>\n",
       "    <tr>\n",
       "      <th>290</th>\n",
       "      <td>I love thi game</td>\n",
       "      <td>0</td>\n",
       "      <td>16</td>\n",
       "      <td>4</td>\n",
       "      <td>1</td>\n",
       "      <td>love thi game</td>\n",
       "      <td>0.50</td>\n",
       "      <td>0.05</td>\n",
       "      <td>positive</td>\n",
       "      <td>0</td>\n",
       "    </tr>\n",
       "    <tr>\n",
       "      <th>291</th>\n",
       "      <td>game graphics is eye catching</td>\n",
       "      <td>0</td>\n",
       "      <td>30</td>\n",
       "      <td>5</td>\n",
       "      <td>1</td>\n",
       "      <td>game graphic eye catch</td>\n",
       "      <td>0.40</td>\n",
       "      <td>-0.20</td>\n",
       "      <td>negative</td>\n",
       "      <td>0</td>\n",
       "    </tr>\n",
       "    <tr>\n",
       "      <th>292</th>\n",
       "      <td>Game level is really enjoyable</td>\n",
       "      <td>0</td>\n",
       "      <td>31</td>\n",
       "      <td>5</td>\n",
       "      <td>1</td>\n",
       "      <td>game level realli enjoy</td>\n",
       "      <td>0.45</td>\n",
       "      <td>0.00</td>\n",
       "      <td>neutral</td>\n",
       "      <td>0</td>\n",
       "    </tr>\n",
       "    <tr>\n",
       "      <th>293</th>\n",
       "      <td>Good Pixel and very beautiful tool</td>\n",
       "      <td>0</td>\n",
       "      <td>35</td>\n",
       "      <td>6</td>\n",
       "      <td>1</td>\n",
       "      <td>good pixel beauti tool</td>\n",
       "      <td>0.60</td>\n",
       "      <td>0.70</td>\n",
       "      <td>positive</td>\n",
       "      <td>0</td>\n",
       "    </tr>\n",
       "    <tr>\n",
       "      <th>294</th>\n",
       "      <td>you are free so come online and play with me</td>\n",
       "      <td>0</td>\n",
       "      <td>45</td>\n",
       "      <td>10</td>\n",
       "      <td>1</td>\n",
       "      <td>free come onlin play</td>\n",
       "      <td>0.80</td>\n",
       "      <td>0.40</td>\n",
       "      <td>positive</td>\n",
       "      <td>0</td>\n",
       "    </tr>\n",
       "  </tbody>\n",
       "</table>\n",
       "</div>"
      ],
      "text/plain": [
       "                                            tweets  target  num_of_characters  \\\n",
       "290                                I love thi game       0                 16   \n",
       "291                  game graphics is eye catching       0                 30   \n",
       "292                 Game level is really enjoyable       0                 31   \n",
       "293             Good Pixel and very beautiful tool       0                 35   \n",
       "294   you are free so come online and play with me       0                 45   \n",
       "\n",
       "     num_of_words  num_of_sentences       transformed_tweets  subjectivity  \\\n",
       "290             4                 1            love thi game          0.50   \n",
       "291             5                 1   game graphic eye catch          0.40   \n",
       "292             5                 1  game level realli enjoy          0.45   \n",
       "293             6                 1   good pixel beauti tool          0.60   \n",
       "294            10                 1     free come onlin play          0.80   \n",
       "\n",
       "     polarity  analysis  new_target  \n",
       "290      0.05  positive           0  \n",
       "291     -0.20  negative           0  \n",
       "292      0.00   neutral           0  \n",
       "293      0.70  positive           0  \n",
       "294      0.40  positive           0  "
      ]
     },
     "execution_count": 68,
     "metadata": {},
     "output_type": "execute_result"
    }
   ],
   "source": [
    "df.tail()"
   ]
  },
  {
   "cell_type": "code",
   "execution_count": 69,
   "metadata": {},
   "outputs": [
    {
     "data": {
      "text/plain": [
       "0    243\n",
       "1     46\n",
       "Name: new_target, dtype: int64"
      ]
     },
     "execution_count": 69,
     "metadata": {},
     "output_type": "execute_result"
    }
   ],
   "source": [
    "df['new_target'].value_counts()"
   ]
  },
  {
   "cell_type": "code",
   "execution_count": 70,
   "metadata": {},
   "outputs": [],
   "source": [
    "df['cyka'] = df['transformed_tweets'].apply(lambda x: 1 if 'cyka' in x else 0)"
   ]
  },
  {
   "cell_type": "code",
   "execution_count": 71,
   "metadata": {},
   "outputs": [],
   "source": [
    "df['blyat'] = df['transformed_tweets'].apply(lambda x: 1 if 'blyat' in x else 0)"
   ]
  },
  {
   "cell_type": "code",
   "execution_count": 72,
   "metadata": {},
   "outputs": [],
   "source": [
    "df['fuck'] = df['transformed_tweets'].apply(lambda x: 1 if 'fuck' in x else 0)"
   ]
  },
  {
   "cell_type": "code",
   "execution_count": 73,
   "metadata": {},
   "outputs": [
    {
     "data": {
      "text/plain": [
       "0    245\n",
       "1     44\n",
       "Name: cyka, dtype: int64"
      ]
     },
     "execution_count": 73,
     "metadata": {},
     "output_type": "execute_result"
    }
   ],
   "source": [
    "df['cyka'].value_counts()"
   ]
  },
  {
   "cell_type": "code",
   "execution_count": 74,
   "metadata": {},
   "outputs": [
    {
     "data": {
      "text/plain": [
       "0    264\n",
       "1     25\n",
       "Name: blyat, dtype: int64"
      ]
     },
     "execution_count": 74,
     "metadata": {},
     "output_type": "execute_result"
    }
   ],
   "source": [
    "df['blyat'].value_counts()"
   ]
  },
  {
   "cell_type": "code",
   "execution_count": 75,
   "metadata": {},
   "outputs": [
    {
     "data": {
      "text/plain": [
       "0    280\n",
       "1      9\n",
       "Name: fuck, dtype: int64"
      ]
     },
     "execution_count": 75,
     "metadata": {},
     "output_type": "execute_result"
    }
   ],
   "source": [
    "df['fuck'].value_counts()"
   ]
  },
  {
   "cell_type": "markdown",
   "metadata": {},
   "source": [
    "## 4. Model Building"
   ]
  },
  {
   "cell_type": "code",
   "execution_count": 76,
   "metadata": {},
   "outputs": [],
   "source": [
    "# naive based machine learning is best model for textual data.\n",
    " \n",
    "from sklearn.feature_extraction.text import CountVectorizer\n",
    "cv = CountVectorizer()"
   ]
  },
  {
   "cell_type": "code",
   "execution_count": 77,
   "metadata": {},
   "outputs": [],
   "source": [
    "X = cv.fit_transform(df['transformed_tweets']).toarray()"
   ]
  },
  {
   "cell_type": "code",
   "execution_count": 78,
   "metadata": {},
   "outputs": [
    {
     "data": {
      "text/plain": [
       "array([[0, 0, 0, ..., 1, 0, 0],\n",
       "       [0, 0, 0, ..., 0, 0, 0],\n",
       "       [0, 0, 0, ..., 0, 0, 0],\n",
       "       ...,\n",
       "       [0, 0, 0, ..., 0, 0, 0],\n",
       "       [0, 0, 0, ..., 0, 0, 0],\n",
       "       [0, 0, 0, ..., 0, 0, 0]], dtype=int64)"
      ]
     },
     "execution_count": 78,
     "metadata": {},
     "output_type": "execute_result"
    }
   ],
   "source": [
    "X"
   ]
  },
  {
   "cell_type": "code",
   "execution_count": 79,
   "metadata": {},
   "outputs": [
    {
     "data": {
      "text/plain": [
       "(289, 1531)"
      ]
     },
     "execution_count": 79,
     "metadata": {},
     "output_type": "execute_result"
    }
   ],
   "source": [
    "X.shape"
   ]
  },
  {
   "cell_type": "code",
   "execution_count": 80,
   "metadata": {},
   "outputs": [],
   "source": [
    "y = df['new_target'].values"
   ]
  },
  {
   "cell_type": "code",
   "execution_count": 81,
   "metadata": {},
   "outputs": [
    {
     "data": {
      "text/plain": [
       "(289,)"
      ]
     },
     "execution_count": 81,
     "metadata": {},
     "output_type": "execute_result"
    }
   ],
   "source": [
    "y.shape"
   ]
  },
  {
   "cell_type": "code",
   "execution_count": 82,
   "metadata": {},
   "outputs": [],
   "source": [
    "from sklearn.model_selection import train_test_split"
   ]
  },
  {
   "cell_type": "code",
   "execution_count": 83,
   "metadata": {},
   "outputs": [],
   "source": [
    "X_train, X_test, y_train, y_test = train_test_split(X, y, test_size = 0.2, random_state = 2)"
   ]
  },
  {
   "cell_type": "code",
   "execution_count": 84,
   "metadata": {},
   "outputs": [],
   "source": [
    "from sklearn.naive_bayes import GaussianNB, MultinomialNB, BernoulliNB\n",
    "from sklearn.metrics import accuracy_score, confusion_matrix, precision_score"
   ]
  },
  {
   "cell_type": "code",
   "execution_count": 85,
   "metadata": {},
   "outputs": [],
   "source": [
    "gnb = GaussianNB()\n",
    "mnb = MultinomialNB()"
   ]
  },
  {
   "cell_type": "code",
   "execution_count": 86,
   "metadata": {},
   "outputs": [],
   "source": [
    "# # imbalanced data me accuracy matter zyada nh krta lekin precision score zyada se zyada ho."
   ]
  },
  {
   "cell_type": "code",
   "execution_count": 87,
   "metadata": {},
   "outputs": [],
   "source": [
    "gnb.fit(X_train, y_train)\n",
    "y_pred1 = gnb.predict(X_test)"
   ]
  },
  {
   "cell_type": "code",
   "execution_count": 88,
   "metadata": {},
   "outputs": [
    {
     "name": "stdout",
     "output_type": "stream",
     "text": [
      "Accuracy Score :  0.9310344827586207\n",
      "Confusion Matrix:  [[46  3]\n",
      " [ 1  8]]\n",
      "Precision Score :  0.7272727272727273\n"
     ]
    }
   ],
   "source": [
    "print('Accuracy Score : ', accuracy_score(y_test, y_pred1))\n",
    "print('Confusion Matrix: ', confusion_matrix(y_test, y_pred1))\n",
    "print('Precision Score : ', precision_score(y_test, y_pred1))"
   ]
  },
  {
   "cell_type": "code",
   "execution_count": 89,
   "metadata": {},
   "outputs": [],
   "source": [
    "mnb.fit(X_train, y_train)\n",
    "y_pred2 = mnb.predict(X_test)"
   ]
  },
  {
   "cell_type": "code",
   "execution_count": 90,
   "metadata": {},
   "outputs": [
    {
     "name": "stdout",
     "output_type": "stream",
     "text": [
      "Accuracy Score :  0.896551724137931\n",
      "Confusion Matrix:  [[43  6]\n",
      " [ 0  9]]\n",
      "Precision Score :  0.6\n"
     ]
    }
   ],
   "source": [
    "print('Accuracy Score : ', accuracy_score(y_test, y_pred2))\n",
    "print('Confusion Matrix: ', confusion_matrix(y_test, y_pred2))\n",
    "print('Precision Score : ', precision_score(y_test, y_pred2))"
   ]
  },
  {
   "cell_type": "code",
   "execution_count": 91,
   "metadata": {},
   "outputs": [],
   "source": [
    "# TFidf vectorizer"
   ]
  },
  {
   "cell_type": "code",
   "execution_count": 92,
   "metadata": {},
   "outputs": [],
   "source": [
    "from sklearn.feature_extraction.text import TfidfVectorizer\n",
    "tfidf = TfidfVectorizer(max_features = 3000)"
   ]
  },
  {
   "cell_type": "code",
   "execution_count": 93,
   "metadata": {},
   "outputs": [],
   "source": [
    "X_tfidf = tfidf.fit_transform(df['transformed_tweets']).toarray()"
   ]
  },
  {
   "cell_type": "code",
   "execution_count": 94,
   "metadata": {},
   "outputs": [
    {
     "data": {
      "text/plain": [
       "array([[0.        , 0.        , 0.        , ..., 0.19876558, 0.        ,\n",
       "        0.        ],\n",
       "       [0.        , 0.        , 0.        , ..., 0.        , 0.        ,\n",
       "        0.        ],\n",
       "       [0.        , 0.        , 0.        , ..., 0.        , 0.        ,\n",
       "        0.        ],\n",
       "       ...,\n",
       "       [0.        , 0.        , 0.        , ..., 0.        , 0.        ,\n",
       "        0.        ],\n",
       "       [0.        , 0.        , 0.        , ..., 0.        , 0.        ,\n",
       "        0.        ],\n",
       "       [0.        , 0.        , 0.        , ..., 0.        , 0.        ,\n",
       "        0.        ]])"
      ]
     },
     "execution_count": 94,
     "metadata": {},
     "output_type": "execute_result"
    }
   ],
   "source": [
    "X_tfidf"
   ]
  },
  {
   "cell_type": "code",
   "execution_count": 95,
   "metadata": {},
   "outputs": [
    {
     "data": {
      "text/plain": [
       "(289, 1531)"
      ]
     },
     "execution_count": 95,
     "metadata": {},
     "output_type": "execute_result"
    }
   ],
   "source": [
    "X_tfidf.shape"
   ]
  },
  {
   "cell_type": "code",
   "execution_count": 96,
   "metadata": {},
   "outputs": [
    {
     "data": {
      "text/plain": [
       "(289,)"
      ]
     },
     "execution_count": 96,
     "metadata": {},
     "output_type": "execute_result"
    }
   ],
   "source": [
    "y.shape"
   ]
  },
  {
   "cell_type": "code",
   "execution_count": 97,
   "metadata": {},
   "outputs": [],
   "source": [
    "X_train, X_test, y_train, y_test = train_test_split(X_tfidf, y, test_size = 0.2, random_state = 2)"
   ]
  },
  {
   "cell_type": "code",
   "execution_count": 98,
   "metadata": {},
   "outputs": [],
   "source": [
    "gnb_tfidf = GaussianNB()\n",
    "mnb_tfidf = MultinomialNB()"
   ]
  },
  {
   "cell_type": "code",
   "execution_count": 99,
   "metadata": {},
   "outputs": [],
   "source": [
    "gnb_tfidf.fit(X_train, y_train)\n",
    "y_pred4 = gnb_tfidf.predict(X_test)"
   ]
  },
  {
   "cell_type": "code",
   "execution_count": 100,
   "metadata": {},
   "outputs": [
    {
     "name": "stdout",
     "output_type": "stream",
     "text": [
      "Accuracy Score :  0.896551724137931\n",
      "Confusion Matrix:  [[46  3]\n",
      " [ 3  6]]\n",
      "Precision Score :  0.6666666666666666\n"
     ]
    }
   ],
   "source": [
    "print('Accuracy Score : ', accuracy_score(y_test, y_pred4))\n",
    "print('Confusion Matrix: ', confusion_matrix(y_test, y_pred4))\n",
    "print('Precision Score : ', precision_score(y_test, y_pred4))"
   ]
  },
  {
   "cell_type": "code",
   "execution_count": 101,
   "metadata": {},
   "outputs": [],
   "source": [
    "mnb_tfidf.fit(X_train, y_train)\n",
    "y_pred5 = mnb_tfidf.predict(X_test)"
   ]
  },
  {
   "cell_type": "code",
   "execution_count": 102,
   "metadata": {},
   "outputs": [
    {
     "name": "stdout",
     "output_type": "stream",
     "text": [
      "Accuracy Score :  0.8793103448275862\n",
      "Confusion Matrix:  [[49  0]\n",
      " [ 7  2]]\n",
      "Precision Score :  1.0\n"
     ]
    }
   ],
   "source": [
    "print('Accuracy Score : ', accuracy_score(y_test, y_pred5))\n",
    "print('Confusion Matrix: ', confusion_matrix(y_test, y_pred5))\n",
    "print('Precision Score : ', precision_score(y_test, y_pred5))"
   ]
  },
  {
   "cell_type": "code",
   "execution_count": 103,
   "metadata": {},
   "outputs": [],
   "source": [
    "bnb_tfidf = BernoulliNB()"
   ]
  },
  {
   "cell_type": "code",
   "execution_count": 104,
   "metadata": {},
   "outputs": [],
   "source": [
    "bnb_tfidf.fit(X_train, y_train)\n",
    "y_pred6 = bnb_tfidf.predict(X_test)"
   ]
  },
  {
   "cell_type": "code",
   "execution_count": 105,
   "metadata": {},
   "outputs": [
    {
     "name": "stdout",
     "output_type": "stream",
     "text": [
      "Accuracy Score :  0.8275862068965517\n",
      "Confusion Matrix:  [[48  1]\n",
      " [ 9  0]]\n",
      "Precision Score :  0.0\n"
     ]
    }
   ],
   "source": [
    "print('Accuracy Score : ', accuracy_score(y_test, y_pred6))\n",
    "print('Confusion Matrix: ', confusion_matrix(y_test, y_pred6))\n",
    "print('Precision Score : ', precision_score(y_test, y_pred6))"
   ]
  },
  {
   "cell_type": "code",
   "execution_count": 106,
   "metadata": {},
   "outputs": [],
   "source": [
    "# let's compare other models one by one"
   ]
  },
  {
   "cell_type": "code",
   "execution_count": 107,
   "metadata": {},
   "outputs": [],
   "source": [
    "from sklearn.linear_model import LogisticRegression\n",
    "from sklearn.svm import SVC\n",
    "from sklearn.naive_bayes import MultinomialNB\n",
    "from sklearn.tree import DecisionTreeClassifier\n",
    "from sklearn.neighbors import KNeighborsClassifier\n",
    "from sklearn.ensemble import RandomForestClassifier\n",
    "from sklearn.ensemble import AdaBoostClassifier\n",
    "from sklearn.ensemble import BaggingClassifier\n",
    "from sklearn.ensemble import ExtraTreesClassifier\n",
    "from sklearn.ensemble import GradientBoostingClassifier\n",
    "from xgboost import XGBClassifier"
   ]
  },
  {
   "cell_type": "code",
   "execution_count": 108,
   "metadata": {},
   "outputs": [],
   "source": [
    "svc = SVC(kernel = 'sigmoid', gamma = 1.0)\n",
    "knc = KNeighborsClassifier()\n",
    "mnb = MultinomialNB()\n",
    "dtc = DecisionTreeClassifier(max_depth = 5)\n",
    "lrc = LogisticRegression(solver = 'liblinear', penalty = 'l1')\n",
    "rfc = RandomForestClassifier(n_estimators = 50, random_state = 2)\n",
    "abc = AdaBoostClassifier(n_estimators = 50, random_state = 2)\n",
    "bc  = BaggingClassifier(n_estimators = 50, random_state = 2)\n",
    "gbc = GradientBoostingClassifier(n_estimators = 50, random_state = 2)\n",
    "xgb = XGBClassifier(n_estimators = 50, random_state = 2)"
   ]
  },
  {
   "cell_type": "code",
   "execution_count": 109,
   "metadata": {},
   "outputs": [],
   "source": [
    "clfs = {\n",
    "    'SVC' : svc,\n",
    "    'KNC' : knc,\n",
    "    'MNB' : mnb,\n",
    "    'DTC' : dtc,\n",
    "    'LRC' : lrc,\n",
    "    'RFC' : rfc,\n",
    "    'ABC' : abc,\n",
    "    'BC'  : bc,\n",
    "    'GBC' : gbc,\n",
    "    'XGB' : xgb\n",
    "}"
   ]
  },
  {
   "cell_type": "code",
   "execution_count": 110,
   "metadata": {},
   "outputs": [],
   "source": [
    "def train_test_classifier(clf, X_train, y_train,  X_test, y_test):\n",
    "    clf.fit(X_train, y_train)\n",
    "    y_pred = clf.predict(X_test)\n",
    "    accuracy  = accuracy_score(y_test, y_pred)\n",
    "    precision = precision_score(y_test, y_pred)\n",
    "    \n",
    "    return accuracy, precision"
   ]
  },
  {
   "cell_type": "code",
   "execution_count": 111,
   "metadata": {},
   "outputs": [
    {
     "data": {
      "text/plain": [
       "(0.9827586206896551, 1.0)"
      ]
     },
     "execution_count": 111,
     "metadata": {},
     "output_type": "execute_result"
    }
   ],
   "source": [
    "train_test_classifier(svc, X_train, y_train, X_test, y_test)"
   ]
  },
  {
   "cell_type": "code",
   "execution_count": 112,
   "metadata": {},
   "outputs": [
    {
     "name": "stdout",
     "output_type": "stream",
     "text": [
      "For  SVC\n",
      "Accuracy -  0.9827586206896551\n",
      "Precision -  1.0\n",
      "For  KNC\n",
      "Accuracy -  1.0\n",
      "Precision -  1.0\n",
      "For  MNB\n",
      "Accuracy -  0.8793103448275862\n",
      "Precision -  1.0\n",
      "For  DTC\n",
      "Accuracy -  1.0\n",
      "Precision -  1.0\n",
      "For  LRC\n",
      "Accuracy -  1.0\n",
      "Precision -  1.0\n",
      "For  RFC\n",
      "Accuracy -  0.9827586206896551\n",
      "Precision -  1.0\n",
      "For  ABC\n",
      "Accuracy -  1.0\n",
      "Precision -  1.0\n",
      "For  BC\n",
      "Accuracy -  1.0\n",
      "Precision -  1.0\n",
      "For  GBC\n",
      "Accuracy -  1.0\n",
      "Precision -  1.0\n"
     ]
    },
    {
     "name": "stderr",
     "output_type": "stream",
     "text": [
      "C:\\Users\\Chacha Tech\\anaconda3\\lib\\site-packages\\xgboost\\sklearn.py:1146: UserWarning: The use of label encoder in XGBClassifier is deprecated and will be removed in a future release. To remove this warning, do the following: 1) Pass option use_label_encoder=False when constructing XGBClassifier object; and 2) Encode your labels (y) as integers starting with 0, i.e. 0, 1, 2, ..., [num_class - 1].\n",
      "  warnings.warn(label_encoder_deprecation_msg, UserWarning)\n"
     ]
    },
    {
     "name": "stdout",
     "output_type": "stream",
     "text": [
      "[21:05:01] WARNING: C:/Users/Administrator/workspace/xgboost-win64_release_1.4.0/src/learner.cc:1095: Starting in XGBoost 1.3.0, the default evaluation metric used with the objective 'binary:logistic' was changed from 'error' to 'logloss'. Explicitly set eval_metric if you'd like to restore the old behavior.\n",
      "For  XGB\n",
      "Accuracy -  1.0\n",
      "Precision -  1.0\n"
     ]
    }
   ],
   "source": [
    "accuracy_scores  = []\n",
    "precision_scores = []\n",
    "\n",
    "for name, clf in clfs.items():\n",
    "    current_accuracy, current_precision = train_test_classifier(clf, X_train, y_train,  X_test, y_test)\n",
    "    \n",
    "    print(\"For \", name)\n",
    "    print(\"Accuracy - \", current_accuracy)\n",
    "    print(\"Precision - \", current_precision)\n",
    "    \n",
    "    accuracy_scores.append(current_accuracy)\n",
    "    precision_scores.append(current_precision)"
   ]
  },
  {
   "cell_type": "code",
   "execution_count": 113,
   "metadata": {},
   "outputs": [
    {
     "data": {
      "text/html": [
       "<div>\n",
       "<style scoped>\n",
       "    .dataframe tbody tr th:only-of-type {\n",
       "        vertical-align: middle;\n",
       "    }\n",
       "\n",
       "    .dataframe tbody tr th {\n",
       "        vertical-align: top;\n",
       "    }\n",
       "\n",
       "    .dataframe thead th {\n",
       "        text-align: right;\n",
       "    }\n",
       "</style>\n",
       "<table border=\"1\" class=\"dataframe\">\n",
       "  <thead>\n",
       "    <tr style=\"text-align: right;\">\n",
       "      <th></th>\n",
       "      <th>Algorithm</th>\n",
       "      <th>Accuracy</th>\n",
       "      <th>Precision</th>\n",
       "    </tr>\n",
       "  </thead>\n",
       "  <tbody>\n",
       "    <tr>\n",
       "      <th>0</th>\n",
       "      <td>SVC</td>\n",
       "      <td>0.982759</td>\n",
       "      <td>1.0</td>\n",
       "    </tr>\n",
       "    <tr>\n",
       "      <th>1</th>\n",
       "      <td>KNC</td>\n",
       "      <td>1.000000</td>\n",
       "      <td>1.0</td>\n",
       "    </tr>\n",
       "    <tr>\n",
       "      <th>2</th>\n",
       "      <td>MNB</td>\n",
       "      <td>0.879310</td>\n",
       "      <td>1.0</td>\n",
       "    </tr>\n",
       "    <tr>\n",
       "      <th>3</th>\n",
       "      <td>DTC</td>\n",
       "      <td>1.000000</td>\n",
       "      <td>1.0</td>\n",
       "    </tr>\n",
       "    <tr>\n",
       "      <th>4</th>\n",
       "      <td>LRC</td>\n",
       "      <td>1.000000</td>\n",
       "      <td>1.0</td>\n",
       "    </tr>\n",
       "    <tr>\n",
       "      <th>5</th>\n",
       "      <td>RFC</td>\n",
       "      <td>0.982759</td>\n",
       "      <td>1.0</td>\n",
       "    </tr>\n",
       "    <tr>\n",
       "      <th>6</th>\n",
       "      <td>ABC</td>\n",
       "      <td>1.000000</td>\n",
       "      <td>1.0</td>\n",
       "    </tr>\n",
       "    <tr>\n",
       "      <th>7</th>\n",
       "      <td>BC</td>\n",
       "      <td>1.000000</td>\n",
       "      <td>1.0</td>\n",
       "    </tr>\n",
       "    <tr>\n",
       "      <th>8</th>\n",
       "      <td>GBC</td>\n",
       "      <td>1.000000</td>\n",
       "      <td>1.0</td>\n",
       "    </tr>\n",
       "    <tr>\n",
       "      <th>9</th>\n",
       "      <td>XGB</td>\n",
       "      <td>1.000000</td>\n",
       "      <td>1.0</td>\n",
       "    </tr>\n",
       "  </tbody>\n",
       "</table>\n",
       "</div>"
      ],
      "text/plain": [
       "  Algorithm  Accuracy  Precision\n",
       "0       SVC  0.982759        1.0\n",
       "1       KNC  1.000000        1.0\n",
       "2       MNB  0.879310        1.0\n",
       "3       DTC  1.000000        1.0\n",
       "4       LRC  1.000000        1.0\n",
       "5       RFC  0.982759        1.0\n",
       "6       ABC  1.000000        1.0\n",
       "7        BC  1.000000        1.0\n",
       "8       GBC  1.000000        1.0\n",
       "9       XGB  1.000000        1.0"
      ]
     },
     "execution_count": 113,
     "metadata": {},
     "output_type": "execute_result"
    }
   ],
   "source": [
    "performance_df = pd.DataFrame({'Algorithm':clfs.keys(),'Accuracy':accuracy_scores,'Precision':precision_scores})\n",
    "performance_df"
   ]
  },
  {
   "cell_type": "code",
   "execution_count": 114,
   "metadata": {},
   "outputs": [
    {
     "data": {
      "text/html": [
       "<div>\n",
       "<style scoped>\n",
       "    .dataframe tbody tr th:only-of-type {\n",
       "        vertical-align: middle;\n",
       "    }\n",
       "\n",
       "    .dataframe tbody tr th {\n",
       "        vertical-align: top;\n",
       "    }\n",
       "\n",
       "    .dataframe thead th {\n",
       "        text-align: right;\n",
       "    }\n",
       "</style>\n",
       "<table border=\"1\" class=\"dataframe\">\n",
       "  <thead>\n",
       "    <tr style=\"text-align: right;\">\n",
       "      <th></th>\n",
       "      <th>Algorithm</th>\n",
       "      <th>Accuracy</th>\n",
       "      <th>Precision</th>\n",
       "    </tr>\n",
       "  </thead>\n",
       "  <tbody>\n",
       "    <tr>\n",
       "      <th>1</th>\n",
       "      <td>KNC</td>\n",
       "      <td>1.000000</td>\n",
       "      <td>1.0</td>\n",
       "    </tr>\n",
       "    <tr>\n",
       "      <th>3</th>\n",
       "      <td>DTC</td>\n",
       "      <td>1.000000</td>\n",
       "      <td>1.0</td>\n",
       "    </tr>\n",
       "    <tr>\n",
       "      <th>4</th>\n",
       "      <td>LRC</td>\n",
       "      <td>1.000000</td>\n",
       "      <td>1.0</td>\n",
       "    </tr>\n",
       "    <tr>\n",
       "      <th>6</th>\n",
       "      <td>ABC</td>\n",
       "      <td>1.000000</td>\n",
       "      <td>1.0</td>\n",
       "    </tr>\n",
       "    <tr>\n",
       "      <th>7</th>\n",
       "      <td>BC</td>\n",
       "      <td>1.000000</td>\n",
       "      <td>1.0</td>\n",
       "    </tr>\n",
       "    <tr>\n",
       "      <th>8</th>\n",
       "      <td>GBC</td>\n",
       "      <td>1.000000</td>\n",
       "      <td>1.0</td>\n",
       "    </tr>\n",
       "    <tr>\n",
       "      <th>9</th>\n",
       "      <td>XGB</td>\n",
       "      <td>1.000000</td>\n",
       "      <td>1.0</td>\n",
       "    </tr>\n",
       "    <tr>\n",
       "      <th>0</th>\n",
       "      <td>SVC</td>\n",
       "      <td>0.982759</td>\n",
       "      <td>1.0</td>\n",
       "    </tr>\n",
       "    <tr>\n",
       "      <th>5</th>\n",
       "      <td>RFC</td>\n",
       "      <td>0.982759</td>\n",
       "      <td>1.0</td>\n",
       "    </tr>\n",
       "    <tr>\n",
       "      <th>2</th>\n",
       "      <td>MNB</td>\n",
       "      <td>0.879310</td>\n",
       "      <td>1.0</td>\n",
       "    </tr>\n",
       "  </tbody>\n",
       "</table>\n",
       "</div>"
      ],
      "text/plain": [
       "  Algorithm  Accuracy  Precision\n",
       "1       KNC  1.000000        1.0\n",
       "3       DTC  1.000000        1.0\n",
       "4       LRC  1.000000        1.0\n",
       "6       ABC  1.000000        1.0\n",
       "7        BC  1.000000        1.0\n",
       "8       GBC  1.000000        1.0\n",
       "9       XGB  1.000000        1.0\n",
       "0       SVC  0.982759        1.0\n",
       "5       RFC  0.982759        1.0\n",
       "2       MNB  0.879310        1.0"
      ]
     },
     "execution_count": 114,
     "metadata": {},
     "output_type": "execute_result"
    }
   ],
   "source": [
    "performance_df_sv_acc = pd.DataFrame({'Algorithm':clfs.keys(),'Accuracy':accuracy_scores,'Precision':precision_scores}).sort_values('Accuracy',ascending=False)\n",
    "performance_df_sv_acc"
   ]
  },
  {
   "cell_type": "code",
   "execution_count": 115,
   "metadata": {},
   "outputs": [],
   "source": [
    "performance_df = pd.DataFrame({'Algorithm':clfs.keys(),'Accuracy':accuracy_scores,'Precision':precision_scores}).sort_values('Precision',ascending=False)"
   ]
  },
  {
   "cell_type": "code",
   "execution_count": 116,
   "metadata": {},
   "outputs": [
    {
     "data": {
      "text/html": [
       "<div>\n",
       "<style scoped>\n",
       "    .dataframe tbody tr th:only-of-type {\n",
       "        vertical-align: middle;\n",
       "    }\n",
       "\n",
       "    .dataframe tbody tr th {\n",
       "        vertical-align: top;\n",
       "    }\n",
       "\n",
       "    .dataframe thead th {\n",
       "        text-align: right;\n",
       "    }\n",
       "</style>\n",
       "<table border=\"1\" class=\"dataframe\">\n",
       "  <thead>\n",
       "    <tr style=\"text-align: right;\">\n",
       "      <th></th>\n",
       "      <th>Algorithm</th>\n",
       "      <th>Accuracy</th>\n",
       "      <th>Precision</th>\n",
       "    </tr>\n",
       "  </thead>\n",
       "  <tbody>\n",
       "    <tr>\n",
       "      <th>0</th>\n",
       "      <td>SVC</td>\n",
       "      <td>0.982759</td>\n",
       "      <td>1.0</td>\n",
       "    </tr>\n",
       "    <tr>\n",
       "      <th>1</th>\n",
       "      <td>KNC</td>\n",
       "      <td>1.000000</td>\n",
       "      <td>1.0</td>\n",
       "    </tr>\n",
       "    <tr>\n",
       "      <th>2</th>\n",
       "      <td>MNB</td>\n",
       "      <td>0.879310</td>\n",
       "      <td>1.0</td>\n",
       "    </tr>\n",
       "    <tr>\n",
       "      <th>3</th>\n",
       "      <td>DTC</td>\n",
       "      <td>1.000000</td>\n",
       "      <td>1.0</td>\n",
       "    </tr>\n",
       "    <tr>\n",
       "      <th>4</th>\n",
       "      <td>LRC</td>\n",
       "      <td>1.000000</td>\n",
       "      <td>1.0</td>\n",
       "    </tr>\n",
       "    <tr>\n",
       "      <th>5</th>\n",
       "      <td>RFC</td>\n",
       "      <td>0.982759</td>\n",
       "      <td>1.0</td>\n",
       "    </tr>\n",
       "    <tr>\n",
       "      <th>6</th>\n",
       "      <td>ABC</td>\n",
       "      <td>1.000000</td>\n",
       "      <td>1.0</td>\n",
       "    </tr>\n",
       "    <tr>\n",
       "      <th>7</th>\n",
       "      <td>BC</td>\n",
       "      <td>1.000000</td>\n",
       "      <td>1.0</td>\n",
       "    </tr>\n",
       "    <tr>\n",
       "      <th>8</th>\n",
       "      <td>GBC</td>\n",
       "      <td>1.000000</td>\n",
       "      <td>1.0</td>\n",
       "    </tr>\n",
       "    <tr>\n",
       "      <th>9</th>\n",
       "      <td>XGB</td>\n",
       "      <td>1.000000</td>\n",
       "      <td>1.0</td>\n",
       "    </tr>\n",
       "  </tbody>\n",
       "</table>\n",
       "</div>"
      ],
      "text/plain": [
       "  Algorithm  Accuracy  Precision\n",
       "0       SVC  0.982759        1.0\n",
       "1       KNC  1.000000        1.0\n",
       "2       MNB  0.879310        1.0\n",
       "3       DTC  1.000000        1.0\n",
       "4       LRC  1.000000        1.0\n",
       "5       RFC  0.982759        1.0\n",
       "6       ABC  1.000000        1.0\n",
       "7        BC  1.000000        1.0\n",
       "8       GBC  1.000000        1.0\n",
       "9       XGB  1.000000        1.0"
      ]
     },
     "execution_count": 116,
     "metadata": {},
     "output_type": "execute_result"
    }
   ],
   "source": [
    "performance_df"
   ]
  },
  {
   "cell_type": "code",
   "execution_count": 117,
   "metadata": {},
   "outputs": [],
   "source": [
    "performance_df1 = pd.melt(performance_df, id_vars = 'Algorithm')"
   ]
  },
  {
   "cell_type": "code",
   "execution_count": 118,
   "metadata": {},
   "outputs": [
    {
     "data": {
      "text/html": [
       "<div>\n",
       "<style scoped>\n",
       "    .dataframe tbody tr th:only-of-type {\n",
       "        vertical-align: middle;\n",
       "    }\n",
       "\n",
       "    .dataframe tbody tr th {\n",
       "        vertical-align: top;\n",
       "    }\n",
       "\n",
       "    .dataframe thead th {\n",
       "        text-align: right;\n",
       "    }\n",
       "</style>\n",
       "<table border=\"1\" class=\"dataframe\">\n",
       "  <thead>\n",
       "    <tr style=\"text-align: right;\">\n",
       "      <th></th>\n",
       "      <th>Algorithm</th>\n",
       "      <th>variable</th>\n",
       "      <th>value</th>\n",
       "    </tr>\n",
       "  </thead>\n",
       "  <tbody>\n",
       "    <tr>\n",
       "      <th>0</th>\n",
       "      <td>SVC</td>\n",
       "      <td>Accuracy</td>\n",
       "      <td>0.982759</td>\n",
       "    </tr>\n",
       "    <tr>\n",
       "      <th>1</th>\n",
       "      <td>KNC</td>\n",
       "      <td>Accuracy</td>\n",
       "      <td>1.000000</td>\n",
       "    </tr>\n",
       "    <tr>\n",
       "      <th>2</th>\n",
       "      <td>MNB</td>\n",
       "      <td>Accuracy</td>\n",
       "      <td>0.879310</td>\n",
       "    </tr>\n",
       "    <tr>\n",
       "      <th>3</th>\n",
       "      <td>DTC</td>\n",
       "      <td>Accuracy</td>\n",
       "      <td>1.000000</td>\n",
       "    </tr>\n",
       "    <tr>\n",
       "      <th>4</th>\n",
       "      <td>LRC</td>\n",
       "      <td>Accuracy</td>\n",
       "      <td>1.000000</td>\n",
       "    </tr>\n",
       "    <tr>\n",
       "      <th>5</th>\n",
       "      <td>RFC</td>\n",
       "      <td>Accuracy</td>\n",
       "      <td>0.982759</td>\n",
       "    </tr>\n",
       "    <tr>\n",
       "      <th>6</th>\n",
       "      <td>ABC</td>\n",
       "      <td>Accuracy</td>\n",
       "      <td>1.000000</td>\n",
       "    </tr>\n",
       "    <tr>\n",
       "      <th>7</th>\n",
       "      <td>BC</td>\n",
       "      <td>Accuracy</td>\n",
       "      <td>1.000000</td>\n",
       "    </tr>\n",
       "    <tr>\n",
       "      <th>8</th>\n",
       "      <td>GBC</td>\n",
       "      <td>Accuracy</td>\n",
       "      <td>1.000000</td>\n",
       "    </tr>\n",
       "    <tr>\n",
       "      <th>9</th>\n",
       "      <td>XGB</td>\n",
       "      <td>Accuracy</td>\n",
       "      <td>1.000000</td>\n",
       "    </tr>\n",
       "    <tr>\n",
       "      <th>10</th>\n",
       "      <td>SVC</td>\n",
       "      <td>Precision</td>\n",
       "      <td>1.000000</td>\n",
       "    </tr>\n",
       "    <tr>\n",
       "      <th>11</th>\n",
       "      <td>KNC</td>\n",
       "      <td>Precision</td>\n",
       "      <td>1.000000</td>\n",
       "    </tr>\n",
       "    <tr>\n",
       "      <th>12</th>\n",
       "      <td>MNB</td>\n",
       "      <td>Precision</td>\n",
       "      <td>1.000000</td>\n",
       "    </tr>\n",
       "    <tr>\n",
       "      <th>13</th>\n",
       "      <td>DTC</td>\n",
       "      <td>Precision</td>\n",
       "      <td>1.000000</td>\n",
       "    </tr>\n",
       "    <tr>\n",
       "      <th>14</th>\n",
       "      <td>LRC</td>\n",
       "      <td>Precision</td>\n",
       "      <td>1.000000</td>\n",
       "    </tr>\n",
       "    <tr>\n",
       "      <th>15</th>\n",
       "      <td>RFC</td>\n",
       "      <td>Precision</td>\n",
       "      <td>1.000000</td>\n",
       "    </tr>\n",
       "    <tr>\n",
       "      <th>16</th>\n",
       "      <td>ABC</td>\n",
       "      <td>Precision</td>\n",
       "      <td>1.000000</td>\n",
       "    </tr>\n",
       "    <tr>\n",
       "      <th>17</th>\n",
       "      <td>BC</td>\n",
       "      <td>Precision</td>\n",
       "      <td>1.000000</td>\n",
       "    </tr>\n",
       "    <tr>\n",
       "      <th>18</th>\n",
       "      <td>GBC</td>\n",
       "      <td>Precision</td>\n",
       "      <td>1.000000</td>\n",
       "    </tr>\n",
       "    <tr>\n",
       "      <th>19</th>\n",
       "      <td>XGB</td>\n",
       "      <td>Precision</td>\n",
       "      <td>1.000000</td>\n",
       "    </tr>\n",
       "  </tbody>\n",
       "</table>\n",
       "</div>"
      ],
      "text/plain": [
       "   Algorithm   variable     value\n",
       "0        SVC   Accuracy  0.982759\n",
       "1        KNC   Accuracy  1.000000\n",
       "2        MNB   Accuracy  0.879310\n",
       "3        DTC   Accuracy  1.000000\n",
       "4        LRC   Accuracy  1.000000\n",
       "5        RFC   Accuracy  0.982759\n",
       "6        ABC   Accuracy  1.000000\n",
       "7         BC   Accuracy  1.000000\n",
       "8        GBC   Accuracy  1.000000\n",
       "9        XGB   Accuracy  1.000000\n",
       "10       SVC  Precision  1.000000\n",
       "11       KNC  Precision  1.000000\n",
       "12       MNB  Precision  1.000000\n",
       "13       DTC  Precision  1.000000\n",
       "14       LRC  Precision  1.000000\n",
       "15       RFC  Precision  1.000000\n",
       "16       ABC  Precision  1.000000\n",
       "17        BC  Precision  1.000000\n",
       "18       GBC  Precision  1.000000\n",
       "19       XGB  Precision  1.000000"
      ]
     },
     "execution_count": 118,
     "metadata": {},
     "output_type": "execute_result"
    }
   ],
   "source": [
    "performance_df1"
   ]
  },
  {
   "cell_type": "code",
   "execution_count": 119,
   "metadata": {},
   "outputs": [
    {
     "data": {
      "text/plain": [
       "<Figure size 1440x576 with 0 Axes>"
      ]
     },
     "metadata": {},
     "output_type": "display_data"
    },
    {
     "data": {
      "image/png": "[encoded data removed]",
      "text/plain": [
       "<Figure size 441.75x360 with 1 Axes>"
      ]
     },
     "metadata": {
      "needs_background": "light"
     },
     "output_type": "display_data"
    }
   ],
   "source": [
    "plt.figure(figsize = (20, 8))\n",
    "sns.catplot(x = 'Algorithm', y = 'value', hue = 'variable', data = performance_df1, kind = 'bar', height = 5)\n",
    "\n",
    "plt.ylim(0.5, 1.0)\n",
    "plt.xticks(rotation = 'vertical')\n",
    "plt.show()"
   ]
  },
  {
   "cell_type": "code",
   "execution_count": 120,
   "metadata": {},
   "outputs": [],
   "source": [
    "# Voting Classifier\n",
    "svc = SVC(kernel='sigmoid', gamma=1.0,probability=True)\n",
    "mnb = MultinomialNB()\n",
    "etc = ExtraTreesClassifier(n_estimators=50, random_state=2)\n",
    "\n",
    "from sklearn.ensemble import VotingClassifier"
   ]
  },
  {
   "cell_type": "code",
   "execution_count": 121,
   "metadata": {},
   "outputs": [],
   "source": [
    "voting = VotingClassifier(estimators=[('svm', svc), ('nb', mnb), ('et', etc)],voting='soft')"
   ]
  },
  {
   "cell_type": "code",
   "execution_count": 122,
   "metadata": {},
   "outputs": [
    {
     "data": {
      "text/plain": [
       "VotingClassifier(estimators=[('svm',\n",
       "                              SVC(gamma=1.0, kernel='sigmoid',\n",
       "                                  probability=True)),\n",
       "                             ('nb', MultinomialNB()),\n",
       "                             ('et',\n",
       "                              ExtraTreesClassifier(n_estimators=50,\n",
       "                                                   random_state=2))],\n",
       "                 voting='soft')"
      ]
     },
     "execution_count": 122,
     "metadata": {},
     "output_type": "execute_result"
    }
   ],
   "source": [
    "voting.fit(X_train,y_train)"
   ]
  },
  {
   "cell_type": "code",
   "execution_count": 123,
   "metadata": {},
   "outputs": [
    {
     "name": "stdout",
     "output_type": "stream",
     "text": [
      "Accuracy 1.0\n",
      "Precision 1.0\n"
     ]
    }
   ],
   "source": [
    "y_pred = voting.predict(X_test)\n",
    "print(\"Accuracy\",accuracy_score(y_test,y_pred))\n",
    "print(\"Precision\",precision_score(y_test,y_pred))"
   ]
  },
  {
   "cell_type": "code",
   "execution_count": 124,
   "metadata": {},
   "outputs": [],
   "source": [
    "# Applying stacking\n",
    "estimators=[('svm', svc), ('nb', mnb), ('et', etc)]\n",
    "final_estimator=RandomForestClassifier()"
   ]
  },
  {
   "cell_type": "code",
   "execution_count": 125,
   "metadata": {},
   "outputs": [],
   "source": [
    "from sklearn.ensemble import StackingClassifier"
   ]
  },
  {
   "cell_type": "code",
   "execution_count": 126,
   "metadata": {},
   "outputs": [],
   "source": [
    "clf = StackingClassifier(estimators=estimators, final_estimator=final_estimator)"
   ]
  },
  {
   "cell_type": "code",
   "execution_count": 127,
   "metadata": {},
   "outputs": [
    {
     "name": "stdout",
     "output_type": "stream",
     "text": [
      "Accuracy 0.9827586206896551\n",
      "Precision 0.9\n"
     ]
    }
   ],
   "source": [
    "clf.fit(X_train,y_train)\n",
    "y_pred = clf.predict(X_test)\n",
    "print(\"Accuracy\",accuracy_score(y_test,y_pred))\n",
    "print(\"Precision\",precision_score(y_test,y_pred))"
   ]
  },
  {
   "cell_type": "code",
   "execution_count": 128,
   "metadata": {},
   "outputs": [
    {
     "data": {
      "text/html": [
       "<div>\n",
       "<style scoped>\n",
       "    .dataframe tbody tr th:only-of-type {\n",
       "        vertical-align: middle;\n",
       "    }\n",
       "\n",
       "    .dataframe tbody tr th {\n",
       "        vertical-align: top;\n",
       "    }\n",
       "\n",
       "    .dataframe thead th {\n",
       "        text-align: right;\n",
       "    }\n",
       "</style>\n",
       "<table border=\"1\" class=\"dataframe\">\n",
       "  <thead>\n",
       "    <tr style=\"text-align: right;\">\n",
       "      <th></th>\n",
       "      <th>tweets</th>\n",
       "      <th>target</th>\n",
       "      <th>num_of_characters</th>\n",
       "      <th>num_of_words</th>\n",
       "      <th>num_of_sentences</th>\n",
       "      <th>transformed_tweets</th>\n",
       "      <th>subjectivity</th>\n",
       "      <th>polarity</th>\n",
       "      <th>analysis</th>\n",
       "      <th>new_target</th>\n",
       "      <th>cyka</th>\n",
       "      <th>blyat</th>\n",
       "      <th>fuck</th>\n",
       "    </tr>\n",
       "  </thead>\n",
       "  <tbody>\n",
       "    <tr>\n",
       "      <th>0</th>\n",
       "      <td>Ekaterina Vinokourova  the only daughter of Ru...</td>\n",
       "      <td>1</td>\n",
       "      <td>303</td>\n",
       "      <td>46</td>\n",
       "      <td>1</td>\n",
       "      <td>ekaterina vinokourova daughter russian foreign...</td>\n",
       "      <td>0.056250</td>\n",
       "      <td>-0.05625</td>\n",
       "      <td>negative</td>\n",
       "      <td>1</td>\n",
       "      <td>1</td>\n",
       "      <td>0</td>\n",
       "      <td>1</td>\n",
       "    </tr>\n",
       "    <tr>\n",
       "      <th>1</th>\n",
       "      <td>eye do naught want two hear it  cyka blyat</td>\n",
       "      <td>1</td>\n",
       "      <td>42</td>\n",
       "      <td>9</td>\n",
       "      <td>1</td>\n",
       "      <td>eye naught want two hear cyka blyat</td>\n",
       "      <td>0.000000</td>\n",
       "      <td>0.00000</td>\n",
       "      <td>neutral</td>\n",
       "      <td>1</td>\n",
       "      <td>1</td>\n",
       "      <td>1</td>\n",
       "      <td>0</td>\n",
       "    </tr>\n",
       "    <tr>\n",
       "      <th>2</th>\n",
       "      <td>eW fkgAM  GS xW  RWApodcast Cyka  Bro that s ...</td>\n",
       "      <td>1</td>\n",
       "      <td>221</td>\n",
       "      <td>41</td>\n",
       "      <td>1</td>\n",
       "      <td>ew fkgam gs xw rwapodcast cyka bro supper offe...</td>\n",
       "      <td>0.523254</td>\n",
       "      <td>0.16881</td>\n",
       "      <td>positive</td>\n",
       "      <td>1</td>\n",
       "      <td>1</td>\n",
       "      <td>0</td>\n",
       "      <td>0</td>\n",
       "    </tr>\n",
       "    <tr>\n",
       "      <th>3</th>\n",
       "      <td>Cryptic Cyka hmmmmmmmmm women hmmm</td>\n",
       "      <td>1</td>\n",
       "      <td>35</td>\n",
       "      <td>5</td>\n",
       "      <td>1</td>\n",
       "      <td>cryptic cyka hmmmmmmmmm women hmmm</td>\n",
       "      <td>0.000000</td>\n",
       "      <td>0.00000</td>\n",
       "      <td>neutral</td>\n",
       "      <td>1</td>\n",
       "      <td>1</td>\n",
       "      <td>0</td>\n",
       "      <td>0</td>\n",
       "    </tr>\n",
       "    <tr>\n",
       "      <th>4</th>\n",
       "      <td>Cryptic Cyka that s a really good drawing man</td>\n",
       "      <td>1</td>\n",
       "      <td>46</td>\n",
       "      <td>9</td>\n",
       "      <td>1</td>\n",
       "      <td>cryptic cyka realli good draw man</td>\n",
       "      <td>0.600000</td>\n",
       "      <td>0.70000</td>\n",
       "      <td>positive</td>\n",
       "      <td>1</td>\n",
       "      <td>1</td>\n",
       "      <td>0</td>\n",
       "      <td>0</td>\n",
       "    </tr>\n",
       "    <tr>\n",
       "      <th>5</th>\n",
       "      <td>Cryptic Cyka they knows her deal</td>\n",
       "      <td>1</td>\n",
       "      <td>33</td>\n",
       "      <td>6</td>\n",
       "      <td>1</td>\n",
       "      <td>cryptic cyka know deal</td>\n",
       "      <td>0.000000</td>\n",
       "      <td>0.00000</td>\n",
       "      <td>neutral</td>\n",
       "      <td>1</td>\n",
       "      <td>1</td>\n",
       "      <td>0</td>\n",
       "      <td>0</td>\n",
       "    </tr>\n",
       "    <tr>\n",
       "      <th>6</th>\n",
       "      <td>Teacher didnt wipe her off since friday  frida...</td>\n",
       "      <td>1</td>\n",
       "      <td>82</td>\n",
       "      <td>12</td>\n",
       "      <td>1</td>\n",
       "      <td>teacher didnt wipe sinc friday fridaynightfunk...</td>\n",
       "      <td>0.000000</td>\n",
       "      <td>0.00000</td>\n",
       "      <td>neutral</td>\n",
       "      <td>0</td>\n",
       "      <td>0</td>\n",
       "      <td>0</td>\n",
       "      <td>0</td>\n",
       "    </tr>\n",
       "    <tr>\n",
       "      <th>7</th>\n",
       "      <td>Aregularname Wait what does that mean</td>\n",
       "      <td>1</td>\n",
       "      <td>39</td>\n",
       "      <td>6</td>\n",
       "      <td>1</td>\n",
       "      <td>aregularnam wait mean</td>\n",
       "      <td>0.687500</td>\n",
       "      <td>-0.31250</td>\n",
       "      <td>negative</td>\n",
       "      <td>0</td>\n",
       "      <td>0</td>\n",
       "      <td>0</td>\n",
       "      <td>0</td>\n",
       "    </tr>\n",
       "    <tr>\n",
       "      <th>8</th>\n",
       "      <td>The things id let him do   https   t co gnZYv ...</td>\n",
       "      <td>1</td>\n",
       "      <td>50</td>\n",
       "      <td>11</td>\n",
       "      <td>1</td>\n",
       "      <td>thing id let http co gnzyv tcq</td>\n",
       "      <td>0.000000</td>\n",
       "      <td>0.00000</td>\n",
       "      <td>neutral</td>\n",
       "      <td>0</td>\n",
       "      <td>0</td>\n",
       "      <td>0</td>\n",
       "      <td>0</td>\n",
       "    </tr>\n",
       "    <tr>\n",
       "      <th>9</th>\n",
       "      <td>Cryptic Cyka on god  lt</td>\n",
       "      <td>1</td>\n",
       "      <td>26</td>\n",
       "      <td>5</td>\n",
       "      <td>1</td>\n",
       "      <td>cryptic cyka god lt</td>\n",
       "      <td>0.000000</td>\n",
       "      <td>0.00000</td>\n",
       "      <td>neutral</td>\n",
       "      <td>1</td>\n",
       "      <td>1</td>\n",
       "      <td>0</td>\n",
       "      <td>0</td>\n",
       "    </tr>\n",
       "  </tbody>\n",
       "</table>\n",
       "</div>"
      ],
      "text/plain": [
       "                                              tweets  target  \\\n",
       "0  Ekaterina Vinokourova  the only daughter of Ru...       1   \n",
       "1         eye do naught want two hear it  cyka blyat       1   \n",
       "2   eW fkgAM  GS xW  RWApodcast Cyka  Bro that s ...       1   \n",
       "3                 Cryptic Cyka hmmmmmmmmm women hmmm       1   \n",
       "4      Cryptic Cyka that s a really good drawing man       1   \n",
       "5                   Cryptic Cyka they knows her deal       1   \n",
       "6  Teacher didnt wipe her off since friday  frida...       1   \n",
       "7             Aregularname Wait what does that mean        1   \n",
       "8  The things id let him do   https   t co gnZYv ...       1   \n",
       "9                          Cryptic Cyka on god  lt         1   \n",
       "\n",
       "   num_of_characters  num_of_words  num_of_sentences  \\\n",
       "0                303            46                 1   \n",
       "1                 42             9                 1   \n",
       "2                221            41                 1   \n",
       "3                 35             5                 1   \n",
       "4                 46             9                 1   \n",
       "5                 33             6                 1   \n",
       "6                 82            12                 1   \n",
       "7                 39             6                 1   \n",
       "8                 50            11                 1   \n",
       "9                 26             5                 1   \n",
       "\n",
       "                                  transformed_tweets  subjectivity  polarity  \\\n",
       "0  ekaterina vinokourova daughter russian foreign...      0.056250  -0.05625   \n",
       "1                eye naught want two hear cyka blyat      0.000000   0.00000   \n",
       "2  ew fkgam gs xw rwapodcast cyka bro supper offe...      0.523254   0.16881   \n",
       "3                 cryptic cyka hmmmmmmmmm women hmmm      0.000000   0.00000   \n",
       "4                  cryptic cyka realli good draw man      0.600000   0.70000   \n",
       "5                             cryptic cyka know deal      0.000000   0.00000   \n",
       "6  teacher didnt wipe sinc friday fridaynightfunk...      0.000000   0.00000   \n",
       "7                              aregularnam wait mean      0.687500  -0.31250   \n",
       "8                     thing id let http co gnzyv tcq      0.000000   0.00000   \n",
       "9                                cryptic cyka god lt      0.000000   0.00000   \n",
       "\n",
       "   analysis  new_target  cyka  blyat  fuck  \n",
       "0  negative           1     1      0     1  \n",
       "1   neutral           1     1      1     0  \n",
       "2  positive           1     1      0     0  \n",
       "3   neutral           1     1      0     0  \n",
       "4  positive           1     1      0     0  \n",
       "5   neutral           1     1      0     0  \n",
       "6   neutral           0     0      0     0  \n",
       "7  negative           0     0      0     0  \n",
       "8   neutral           0     0      0     0  \n",
       "9   neutral           1     1      0     0  "
      ]
     },
     "execution_count": 128,
     "metadata": {},
     "output_type": "execute_result"
    }
   ],
   "source": [
    "df.head(10)"
   ]
  },
  {
   "cell_type": "code",
   "execution_count": 159,
   "metadata": {},
   "outputs": [],
   "source": [
    "tweet = transform_text('eye cyka fuck do naught want two hear it ')"
   ]
  },
  {
   "cell_type": "code",
   "execution_count": 160,
   "metadata": {},
   "outputs": [],
   "source": [
    "vector_input = tfidf.transform([tweet])"
   ]
  },
  {
   "cell_type": "code",
   "execution_count": 161,
   "metadata": {},
   "outputs": [],
   "source": [
    "result = mnb_tfidf.predict(vector_input)[0]"
   ]
  },
  {
   "cell_type": "code",
   "execution_count": 162,
   "metadata": {},
   "outputs": [
    {
     "data": {
      "text/plain": [
       "1"
      ]
     },
     "execution_count": 162,
     "metadata": {},
     "output_type": "execute_result"
    }
   ],
   "source": [
    "result"
   ]
  },
  {
   "cell_type": "code",
   "execution_count": 163,
   "metadata": {},
   "outputs": [],
   "source": [
    "def showresult(result):\n",
    "    if result == 1:\n",
    "        print('Toxic Tweet')\n",
    "    else:\n",
    "        print('Not Toxic Tweet')"
   ]
  },
  {
   "cell_type": "code",
   "execution_count": 164,
   "metadata": {},
   "outputs": [
    {
     "name": "stdout",
     "output_type": "stream",
     "text": [
      "Toxic Tweet\n"
     ]
    }
   ],
   "source": [
    "showresult(result)"
   ]
  },
  {
   "cell_type": "code",
   "execution_count": null,
   "metadata": {},
   "outputs": [],
   "source": []
  }
 ],
 "metadata": {
  "kernelspec": {
   "display_name": "Python 3",
   "language": "python",
   "name": "python3"
  },
  "language_info": {
   "codemirror_mode": {
    "name": "ipython",
    "version": 3
   },
   "file_extension": ".py",
   "mimetype": "text/x-python",
   "name": "python",
   "nbconvert_exporter": "python",
   "pygments_lexer": "ipython3",
   "version": "3.8.5"
  }
 },
 "nbformat": 4,
 "nbformat_minor": 4
}
